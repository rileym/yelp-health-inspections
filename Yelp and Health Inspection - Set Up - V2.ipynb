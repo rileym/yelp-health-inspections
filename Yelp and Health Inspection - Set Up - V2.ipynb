{
 "cells": [
  {
   "cell_type": "code",
   "execution_count": 6,
   "metadata": {
    "collapsed": false
   },
   "outputs": [],
   "source": [
    "import csv\n",
    "import pdb\n",
    "import dill as pkl\n",
    "from collections import Counter\n",
    "from operator import itemgetter\n",
    "import psycopg2\n",
    "from psycopg2.extras import NamedTupleConnection\n",
    "import requests\n",
    "from requests_oauthlib import OAuth1\n",
    "from pprint import pprint"
   ]
  },
  {
   "cell_type": "code",
   "execution_count": 7,
   "metadata": {
    "collapsed": false
   },
   "outputs": [],
   "source": [
    "import yelp_api_machinery as yam\n",
    "import cleaners\n",
    "from table_builders import RestaurantsTableBuilder, CategoriesTableBuilder, NeighborhoodsTableBuilder"
   ]
  },
  {
   "cell_type": "code",
   "execution_count": 8,
   "metadata": {
    "collapsed": false
   },
   "outputs": [
    {
     "name": "stdout",
     "output_type": "stream",
     "text": [
      "The autoreload extension is already loaded. To reload it, use:\n",
      "  %reload_ext autoreload\n"
     ]
    }
   ],
   "source": [
    "%load_ext autoreload\n",
    "%autoreload 2"
   ]
  },
  {
   "cell_type": "markdown",
   "metadata": {},
   "source": [
    "## _This Notebook: Download Raw Data, Clean, Create \"inspections\" table, Pull Restaurant Urls, Build \"restaurants\", \"categories\", and \"neighborhoods\" Tables_"
   ]
  },
  {
   "cell_type": "markdown",
   "metadata": {},
   "source": [
    "#--------------------------------------------------------------------------------------------"
   ]
  },
  {
   "cell_type": "markdown",
   "metadata": {},
   "source": [
    "## Set Up Database"
   ]
  },
  {
   "cell_type": "markdown",
   "metadata": {},
   "source": [
    "###Download Data"
   ]
  },
  {
   "cell_type": "code",
   "execution_count": null,
   "metadata": {
    "collapsed": true
   },
   "outputs": [],
   "source": [
    "json_url = 'https://data.cityofnewyork.us/api/views/xx67-kt59/rows.json?accessType=DOWNLOAD'\n",
    "csv_url = 'https://data.cityofnewyork.us/api/views/xx67-kt59/rows.csv?accessType=DOWNLOAD'"
   ]
  },
  {
   "cell_type": "code",
   "execution_count": null,
   "metadata": {
    "collapsed": false
   },
   "outputs": [],
   "source": [
    "print csv_url"
   ]
  },
  {
   "cell_type": "code",
   "execution_count": null,
   "metadata": {
    "collapsed": false
   },
   "outputs": [],
   "source": [
    "r = requests.get(csv_url)\n",
    "len(r.content)"
   ]
  },
  {
   "cell_type": "code",
   "execution_count": null,
   "metadata": {
    "collapsed": true
   },
   "outputs": [],
   "source": [
    "with open('raw_inspection_data.csv', 'w') as f:\n",
    "    f.write(r.content)"
   ]
  },
  {
   "cell_type": "markdown",
   "metadata": {},
   "source": [
    "### Clean CSV"
   ]
  },
  {
   "cell_type": "markdown",
   "metadata": {},
   "source": [
    "To a list..."
   ]
  },
  {
   "cell_type": "code",
   "execution_count": null,
   "metadata": {
    "collapsed": false
   },
   "outputs": [],
   "source": [
    "%%time \n",
    "\n",
    "with open('./raw_inspection_data.csv', 'rt') as f:\n",
    "    dialect = csv.Sniffer().sniff(f.read(1024))\n",
    "    f.seek(0)\n",
    "    reader = csv.reader(f, dialect)\n",
    "    header = reader.next()\n",
    "    \n",
    "    entries = []\n",
    "    for row in reader:\n",
    "        entry_dict =  dict(zip(header, row))\n",
    "        entries.append(cleaners.inspection_entry(entry_dict))\n"
   ]
  },
  {
   "cell_type": "markdown",
   "metadata": {},
   "source": [
    "To disk..."
   ]
  },
  {
   "cell_type": "code",
   "execution_count": null,
   "metadata": {
    "collapsed": false
   },
   "outputs": [],
   "source": [
    "%% time \n",
    "\n",
    "fieldnames = ['CAMIS',\n",
    "            'DBA',\n",
    "            'ADDRESS',\n",
    "            'ZIPCODE',\n",
    "            'PHONE',\n",
    "            'INSPECTION_TYPE',\n",
    "            'INSPECTION_DATE',\n",
    "            'ACTION',\n",
    "            'SCORE',\n",
    "            'GRADE',\n",
    "            'GRADE_DATE',\n",
    "            'VIOLATION_CODE',\n",
    "            'CRITIAL_FLAG',\n",
    "            'RECORD_DATE']\n",
    "\n",
    "csv.register_dialect('pipes', delimiter='|', quotechar = '\"', quoting = csv.QUOTE_MINIMAL)\n",
    "with open('cleaned_inspection_data.csv', 'wt') as f:\n",
    "    writer = csv.DictWriter(f, fieldnames, dialect='pipes')\n",
    "    writer.writeheader()\n",
    "    for entry in entries:\n",
    "        writer.writerow(entry.values)\n",
    "        "
   ]
  },
  {
   "cell_type": "markdown",
   "metadata": {},
   "source": [
    "### Add \"inspections\" Table to Database"
   ]
  },
  {
   "cell_type": "code",
   "execution_count": null,
   "metadata": {
    "collapsed": false
   },
   "outputs": [],
   "source": [
    "conn = psycopg2.connect(\"dbname=yelp\")\n",
    "c = conn.cursor()"
   ]
  },
  {
   "cell_type": "markdown",
   "metadata": {},
   "source": [
    "Create table:"
   ]
  },
  {
   "cell_type": "code",
   "execution_count": null,
   "metadata": {
    "collapsed": false
   },
   "outputs": [],
   "source": [
    "c.execute(\"DROP TABLE IF EXISTS inspections\")\n",
    "c.execute('''CREATE TABLE inspections (\n",
    "CAMIS varchar(10),\n",
    "DBA varchar(255),\n",
    "ADDRESS  varchar(100),\n",
    "ZIPCODE varchar(5),\n",
    "PHONE varchar(12),\n",
    "INSPECTION_TYPE varchar(64),\n",
    "INSPECTION_DATE date,\n",
    "ACTION varchar(150),\n",
    "SCORE smallint,\n",
    "GRADE varchar(1),\n",
    "GRADE_DATE date,\n",
    "VIOLATION_CODE varchar(3),\n",
    "CRITICAL varchar(1),\n",
    "RECORD_DATE date\n",
    ")'''\n",
    ")\n",
    "conn.commit()"
   ]
  },
  {
   "cell_type": "markdown",
   "metadata": {},
   "source": [
    "Populate with COPY:"
   ]
  },
  {
   "cell_type": "code",
   "execution_count": null,
   "metadata": {
    "collapsed": false
   },
   "outputs": [],
   "source": [
    "copy_command = '''\n",
    "COPY inspections \n",
    "FROM STDIN\n",
    "WITH (\n",
    "FORMAT CSV,\n",
    "DELIMITER '|',\n",
    "NULL 'NULL',\n",
    "HEADER TRUE,\n",
    "QUOTE '\"'\n",
    ");\n",
    "'''\n",
    "\n",
    "with open('./cleaned_inspection_data.csv', 'rt') as f:\n",
    "    c.copy_expert(copy_command, f)\n",
    "\n",
    "conn.commit()\n",
    "conn.close()"
   ]
  },
  {
   "cell_type": "markdown",
   "metadata": {},
   "source": [
    "#--------------------------------------------------------------------------------------------"
   ]
  },
  {
   "cell_type": "markdown",
   "metadata": {},
   "source": [
    "## Yelp API"
   ]
  },
  {
   "cell_type": "code",
   "execution_count": 23,
   "metadata": {
    "collapsed": false
   },
   "outputs": [],
   "source": [
    "trwlr = yam.YelpApiCoordinator(start_read = 0, by_phone = True, by_addr_0 = False, by_addr_1= False,\n",
    "                                report_interval = 25)"
   ]
  },
  {
   "cell_type": "code",
   "execution_count": null,
   "metadata": {
    "collapsed": true
   },
   "outputs": [],
   "source": [
    "# seperate hit from misses\n",
    "# record successes\n",
    "# retry misses\n",
    "# find best match over threshold\n",
    "## match address, match name\n",
    "# record second pass successes\n",
    "# plan out how this happens\n"
   ]
  },
  {
   "cell_type": "code",
   "execution_count": 17,
   "metadata": {
    "collapsed": true
   },
   "outputs": [],
   "source": [
    "from difflib import SequenceMatcher\n",
    "\n",
    "def similar(a, b):\n",
    "    return SequenceMatcher(None, a, b).ratio()"
   ]
  },
  {
   "cell_type": "code",
   "execution_count": 34,
   "metadata": {
    "collapsed": false
   },
   "outputs": [
    {
     "data": {
      "text/plain": [
       "0.7586206896551724"
      ]
     },
     "execution_count": 34,
     "metadata": {},
     "output_type": "execute_result"
    }
   ],
   "source": [
    "similar(\"KoJa Kitchen\", \"Koa Home-*Kitchen\")"
   ]
  },
  {
   "cell_type": "code",
   "execution_count": 24,
   "metadata": {
    "collapsed": false,
    "scrolled": false
   },
   "outputs": [
    {
     "name": "stdout",
     "output_type": "stream",
     "text": [
      "100 Restaurants to pull.\n",
      "Pulling restaurant number 0...\n",
      "Restaurant 0 completed.\n",
      "Pulling restaurant number 25...\n",
      "Restaurant 25 completed.\n",
      "Pulling restaurant number 50...\n",
      "Restaurant 50 completed.\n",
      "Pulling restaurant number 75...\n",
      "Restaurant 75 completed.\n",
      "Completion: 100 restaurants pulled.\n"
     ]
    }
   ],
   "source": [
    "start_record = 0\n",
    "n = 100\n",
    "trwlr.seek(start_record)\n",
    "output = trwlr.read_next_n(n)"
   ]
  },
  {
   "cell_type": "code",
   "execution_count": 75,
   "metadata": {
    "collapsed": false
   },
   "outputs": [],
   "source": [
    "trwlr.close_conn()"
   ]
  },
  {
   "cell_type": "code",
   "execution_count": 30,
   "metadata": {
    "collapsed": false
   },
   "outputs": [],
   "source": [
    "successes = map(lambda x: (x[0].camis, x[1]['by_phone']), filter(lambda x: x[1]['by_phone'] is not None, output))\n",
    "failures = map(itemgetter(0), filter(lambda x: x[1]['by_phone'] is None, output))"
   ]
  },
  {
   "cell_type": "code",
   "execution_count": 33,
   "metadata": {
    "collapsed": false
   },
   "outputs": [
    {
     "name": "stdout",
     "output_type": "stream",
     "text": [
      "[('30075445',\n",
      "  RestaurantExtract(yelp_name=u'Morris Pk Bake Shop', yelp_id=u'morris-pk-bake-shop-bronx', yelp_address=u'1007 Morris Park Avenue', yelp_city=u'Bronx', yelp_zipcode=u'10462', yelp_phone=u'17188924968', review_count=19, rating=4.5, categories=[u'Bakeries', u'Desserts'], neighborhoods=[u'Morris Park'])),\n",
      " ('30112340',\n",
      "  RestaurantExtract(yelp_name=u\"Wendy's\", yelp_id=u'wendys-brooklyn-4', yelp_address=u'469 Flatbush Ave', yelp_city=u'Brooklyn', yelp_zipcode=u'11225', yelp_phone=u'17182875005', review_count=19, rating=2.0, categories=[u'Fast Food', u'Burgers'], neighborhoods=[u'Prospect Heights', u'Prospect Lefferts Gardens'])),\n",
      " ('30191841',\n",
      "  RestaurantExtract(yelp_name=u'D.J. Reynolds', yelp_id=u'd-j-reynolds-new-york-3', yelp_address=u'351 W 57th St', yelp_city=u'New York', yelp_zipcode=u'10019', yelp_phone=u'12122452912', review_count=58, rating=3.5, categories=[u'Irish', u'Pubs'], neighborhoods=[u\"Hell's Kitchen\", u'Midtown West'])),\n",
      " ('40356018',\n",
      "  RestaurantExtract(yelp_name=u'Riviera Caterers', yelp_id=u'riviera-caterers-brooklyn', yelp_address=u'2780 Stillwell Ave', yelp_city=u'Brooklyn', yelp_zipcode=u'11224', yelp_phone=u'17183723031', review_count=17, rating=4.0, categories=[u'Caterers'], neighborhoods=[u'Coney Island'])),\n",
      " ('40356151',\n",
      "  RestaurantExtract(yelp_name=u\"Bruno's On the Boulevard\", yelp_id=u'brunos-on-the-boulevard-jackson-heights', yelp_address=u'8825 Astoria Blvd', yelp_city=u'Jackson Heights', yelp_zipcode=u'11369', yelp_phone=u'17183350505', review_count=7, rating=4.0, categories=[u'Caterers', u'Venues & Event Spaces'], neighborhoods=[u'East Elmhurst'])),\n",
      " ('40356442',\n",
      "  RestaurantExtract(yelp_name=u'Kosher Island Glatt Kosher Take Home Food', yelp_id=u'kosher-island-glatt-kosher-take-home-food-staten-island', yelp_address=u'2206 Victory Blvd', yelp_city=u'Staten Island', yelp_zipcode=u'10314', yelp_phone=u'17186985800', review_count=2, rating=4.5, categories=[u'Meat Shops', u'Caterers'], neighborhoods=[])),\n",
      " ('40356483',\n",
      "  RestaurantExtract(yelp_name=u'Wilkens II Deli', yelp_id=u'wilkens-ii-deli-brooklyn', yelp_address=u'7114 Ave U', yelp_city=u'Brooklyn', yelp_zipcode=u'11234', yelp_phone=u'17184443838', review_count=17, rating=3.5, categories=[u'Delis'], neighborhoods=[u'Bergen Beach'])),\n",
      " ('40356649', []),\n",
      " ('40356731',\n",
      "  RestaurantExtract(yelp_name=u'Taste the Tropics', yelp_id=u'taste-the-tropics-brooklyn', yelp_address=u'1839 Nostrand Ave', yelp_city=u'Brooklyn', yelp_zipcode=u'11226', yelp_phone=u'17188560821', review_count=12, rating=4.5, categories=[u'Ice Cream & Frozen Yogurt'], neighborhoods=[u'Flatbush'])),\n",
      " ('40357217', []),\n",
      " ('40358429',\n",
      "  RestaurantExtract(yelp_name=u'May May Restaurant', yelp_id=u'may-may-restaurant-brooklyn', yelp_address=u'1269 Sutter Ave', yelp_city=u'Brooklyn', yelp_zipcode=u'11208', yelp_phone=u'17182354485', review_count=2, rating=1.0, categories=[u'Chinese'], neighborhoods=[u'East New York'])),\n",
      " ('40359480', []),\n",
      " ('40359705', []),\n",
      " ('40360045',\n",
      "  RestaurantExtract(yelp_name=u'Seuda Foods', yelp_id=u'seuda-foods-brooklyn', yelp_address=u'705 Kings Hwy', yelp_city=u'Brooklyn', yelp_zipcode=u'11223', yelp_phone=u'17183751500', review_count=2, rating=4.5, categories=[u'Caterers'], neighborhoods=[u'Midwood', u'Gravesend'])),\n",
      " ('40360076',\n",
      "  RestaurantExtract(yelp_name=u'Carvel', yelp_id=u'carvel-brooklyn-3', yelp_address=u'203 Church Ave', yelp_city=u'Brooklyn', yelp_zipcode=u'11218', yelp_phone=u'17184389501', review_count=10, rating=3.5, categories=[u'Ice Cream & Frozen Yogurt'], neighborhoods=[u'Kensington', u'Flatbush'])),\n",
      " ('40361322',\n",
      "  RestaurantExtract(yelp_name=u'Carvel', yelp_id=u'carvel-glen-oaks', yelp_address=u'26515 Hillside Ave', yelp_city=u'Glen Oaks', yelp_zipcode=u'11004', yelp_phone=u'17183430392', review_count=8, rating=4.5, categories=[u'Ice Cream & Frozen Yogurt'], neighborhoods=[])),\n",
      " ('40361521', []),\n",
      " ('40361606',\n",
      "  RestaurantExtract(yelp_name=u'The Movable Feast', yelp_id=u'the-movable-feast-brooklyn', yelp_address=u'284 Prospect Park W', yelp_city=u'Brooklyn', yelp_zipcode=u'11215', yelp_phone=u'17189652900', review_count=6, rating=4.0, categories=[u'Caterers'], neighborhoods=[u'South Slope', u'Windsor Terrace'])),\n",
      " ('40361618',\n",
      "  RestaurantExtract(yelp_name=u\"Sal's Deli\", yelp_id=u'sals-deli-college-point', yelp_address=u'12908 20th Ave', yelp_city=u'College Point', yelp_zipcode=u'11356', yelp_phone=u'17186619498', review_count=3, rating=4.5, categories=[u'Delis', u'Sandwiches'], neighborhoods=[u'College Point'])),\n",
      " ('40361708',\n",
      "  RestaurantExtract(yelp_name=u\"Bully's Deli\", yelp_id=u'bullys-deli-new-york-13', yelp_address=u'759 Broadway', yelp_city=u'New York', yelp_zipcode=u'10003', yelp_phone=u'12122549755', review_count=93, rating=3.0, categories=[u'Delis'], neighborhoods=[u'Greenwich Village'])),\n",
      " ('40361998',\n",
      "  RestaurantExtract(yelp_name=u\"Steve Chu's Deli & Grocery\", yelp_id=u'steve-chus-deli-and-grocery-astoria', yelp_address=u'3406 10th St', yelp_city=u'Astoria', yelp_zipcode=u'11106', yelp_phone=u'17187268888', review_count=2, rating=5.0, categories=[u'Delis'], neighborhoods=[u'Astoria'])),\n",
      " ('40362098',\n",
      "  RestaurantExtract(yelp_name=u\"Harriet's Kitchen\", yelp_id=u'harriets-kitchen-new-york', yelp_address=u'502 Amsterdam Ave', yelp_city=u'New York', yelp_zipcode=u'10024', yelp_phone=u'12127210045', review_count=81, rating=3.0, categories=[u'American (Traditional)', u'Burgers'], neighborhoods=[u'Upper West Side'])),\n",
      " ('40362264',\n",
      "  RestaurantExtract(yelp_name=u'Paul Saini Deli', yelp_id=u'paul-saini-deli-new-york', yelp_address=u'730 Columbus Ave', yelp_city=u'New York', yelp_zipcode=u'10025', yelp_phone=u'12129323030', review_count=2, rating=1.5, categories=[u'Delis'], neighborhoods=[u'Upper West Side'])),\n",
      " ('40362274', []),\n",
      " ('40362432',\n",
      "  RestaurantExtract(yelp_name=u'Ho Mei', yelp_id=u'ho-mei-corona', yelp_address=u'10305 37th Avenue', yelp_city=u'Corona', yelp_zipcode=u'11368', yelp_phone=u'17187796903', review_count=3, rating=5.0, categories=[u'Restaurants'], neighborhoods=[u'North Corona'])),\n",
      " ('40362715', []),\n",
      " ('40362869', []),\n",
      " ('40363093',\n",
      "  RestaurantExtract(yelp_name=u'Carvel', yelp_id=u'carvel-bronx-3', yelp_address=u'1006 E 233rd St', yelp_city=u'Bronx', yelp_zipcode=u'10466', yelp_phone=u'17186526827', review_count=2, rating=3.0, categories=[u'Ice Cream & Frozen Yogurt'], neighborhoods=[u'Edenwald'])),\n",
      " ('40363098',\n",
      "  RestaurantExtract(yelp_name=u\"Dunkin' Donuts\", yelp_id=u'dunkin-donuts-brooklyn-142', yelp_address=u'56 Court St', yelp_city=u'Brooklyn', yelp_zipcode=u'11201', yelp_phone=u'17186252068', review_count=8, rating=2.0, categories=[u'Donuts', u'Coffee & Tea'], neighborhoods=[u'Brooklyn Heights'])),\n",
      " ('40363151',\n",
      "  RestaurantExtract(yelp_name=u\"Olive's\", yelp_id=u'olives-new-york-3', yelp_address=u'120 Prince St', yelp_city=u'New York', yelp_zipcode=u'10012', yelp_phone=u'12129410111', review_count=161, rating=3.5, categories=[u'Sandwiches'], neighborhoods=[u'SoHo'])),\n",
      " ('40363289', []),\n",
      " ('40363298', []),\n",
      " ('40363333', []),\n",
      " ('40363426',\n",
      "  RestaurantExtract(yelp_name=u'Lexler Deli', yelp_id=u'lexler-deli-new-york', yelp_address=u'405 Lexington Ave', yelp_city=u'New York', yelp_zipcode=u'10017', yelp_phone=u'12126870820', review_count=11, rating=4.0, categories=[u'Delis'], neighborhoods=[u'Midtown East'])),\n",
      " ('40363427',\n",
      "  RestaurantExtract(yelp_name=u'Bagels & Buns', yelp_id=u'bagels-and-buns-staten-island', yelp_address=u'2491 Victory Blvd', yelp_city=u'Staten Island', yelp_zipcode=u'10314', yelp_phone=u'17187611900', review_count=17, rating=4.0, categories=[u'Bagels', u'Bakeries', u'Coffee & Tea'], neighborhoods=[])),\n",
      " ('40363565',\n",
      "  RestaurantExtract(yelp_name=u'P & C Bagels', yelp_id=u'p-and-c-bagels-middle-village', yelp_address=u'7905 Metropolitan Ave', yelp_city=u'Middle Village', yelp_zipcode=u'11379', yelp_phone=u'17183268510', review_count=31, rating=4.0, categories=[u'Bagels'], neighborhoods=[u'Middle Village'])),\n",
      " ('40363590', []),\n",
      " ('40363630',\n",
      "  RestaurantExtract(yelp_name=u'Lorenzo & Marias Kitchen', yelp_id=u'lorenzo-and-marias-kitchen-new-york', yelp_address=u'1418 3rd Ave Frnt', yelp_city=u'New York', yelp_zipcode=u'10028', yelp_phone=u'12127941080', review_count=13, rating=2.0, categories=[u'Food', u'Restaurants'], neighborhoods=[u'Upper East Side', u'Yorkville'])),\n",
      " ('40363644',\n",
      "  RestaurantExtract(yelp_name=u\"Domino's Pizza\", yelp_id=u'dominos-pizza-new-york-8', yelp_address=u'464 3rd Ave', yelp_city=u'New York', yelp_zipcode=u'10016', yelp_phone=u'12125450200', review_count=16, rating=2.5, categories=[u'Pizza', u'Chicken Wings', u'Sandwiches'], neighborhoods=[u'Murray Hill', u'Kips Bay', u'Midtown East'])),\n",
      " ('40363685', []),\n",
      " ('40363744',\n",
      "  RestaurantExtract(yelp_name=u\"Sonny's Heros\", yelp_id=u'sonnys-heros-brooklyn', yelp_address=u'1031 E 92nd St', yelp_city=u'Brooklyn', yelp_zipcode=u'11236', yelp_phone=u'17184859810', review_count=10, rating=5.0, categories=[u'Caterers'], neighborhoods=[u'Canarsie'])),\n",
      " ('40363834',\n",
      "  RestaurantExtract(yelp_name=u'Carvel', yelp_id=u'carvel-staten-island-4', yelp_address=u'1111 Hylan Blvd', yelp_city=u'Staten Island', yelp_zipcode=u'10305', yelp_phone=u'17188167807', review_count=3, rating=2.0, categories=[u'Ice Cream & Frozen Yogurt'], neighborhoods=[u'Grasmere'])),\n",
      " ('40363920', []),\n",
      " ('40363945',\n",
      "  RestaurantExtract(yelp_name=u\"Domino's Pizza\", yelp_id=u'dominos-pizza-new-york-15', yelp_address=u'148 W 72nd St', yelp_city=u'New York', yelp_zipcode=u'10023', yelp_phone=u'12125010200', review_count=20, rating=2.5, categories=[u'Pizza', u'Chicken Wings', u'Sandwiches'], neighborhoods=[u'Upper West Side'])),\n",
      " ('40364149',\n",
      "  RestaurantExtract(yelp_name=u\"Auntie Anne's\", yelp_id=u'auntie-annes-new-york-4', yelp_address=u'Penn Sta', yelp_city=u'New York', yelp_zipcode=u'10001', yelp_phone=u'12122396882', review_count=8, rating=2.5, categories=[u'Bakeries', u'Fast Food'], neighborhoods=[u'Midtown West', u'Chelsea'])),\n",
      " ('40364179',\n",
      "  RestaurantExtract(yelp_name=u\"Miss Mamie's Spoonbread Too\", yelp_id=u'miss-mamies-spoonbread-too-new-york', yelp_address=u'366 W 110th St', yelp_city=u'New York', yelp_zipcode=u'10025', yelp_phone=u'12128656744', review_count=312, rating=3.0, categories=[u'Southern', u'Barbeque'], neighborhoods=[u'Manhattan Valley'])),\n",
      " ('40364220',\n",
      "  RestaurantExtract(yelp_name=u'Kosher Bagel Hole', yelp_id=u'kosher-bagel-hole-brooklyn-2', yelp_address=u'1423 Ave J', yelp_city=u'Brooklyn', yelp_zipcode=u'11230', yelp_phone=u'17182584150', review_count=13, rating=4.0, categories=[u'Bagels', u'Breakfast & Brunch', u'Sandwiches'], neighborhoods=[u'Midwood'])),\n",
      " ('40364262', []),\n",
      " ('40364286',\n",
      "  RestaurantExtract(yelp_name=u'Plaza Bagel & Deli', yelp_id=u'plaza-bagel-and-deli-staten-island', yelp_address=u'73 New Dorp Plz', yelp_city=u'Staten Island', yelp_zipcode=u'10306', yelp_phone=u'17183513906', review_count=8, rating=5.0, categories=[u'Delis'], neighborhoods=[u'Oakwood', u'New Dorp'])),\n",
      " ('40364296',\n",
      "  RestaurantExtract(yelp_name=u'Happy Garden', yelp_id=u'happy-garden-bronx-3', yelp_address=u'277 E Kingsbridge Rd', yelp_city=u'Bronx', yelp_zipcode=u'10458', yelp_phone=u'17182955588', review_count=2, rating=4.0, categories=[u'Chinese'], neighborhoods=[u'Bedford Park'])),\n",
      " ('40364299',\n",
      "  RestaurantExtract(yelp_name=u'B & M Hot Bagels & Grocery', yelp_id=u'b-and-m-hot-bagels-and-grocery-staten-island', yelp_address=u'203 Giffords Ln', yelp_city=u'Staten Island', yelp_zipcode=u'10308', yelp_phone=u'17189668445', review_count=2, rating=2.5, categories=[u'Grocery'], neighborhoods=[u'Great Kills'])),\n",
      " ('40364304', []),\n",
      " ('40364305',\n",
      "  RestaurantExtract(yelp_name=u'Philadelphia Grille', yelp_id=u'philadelphia-grille-brooklyn', yelp_address=u'10004 4th Ave', yelp_city=u'Brooklyn', yelp_zipcode=u'11209', yelp_phone=u'17182380747', review_count=23, rating=4.0, categories=[u'American (Traditional)'], neighborhoods=[u'Bay Ridge', u'Fort Hamilton'])),\n",
      " ('40364335',\n",
      "  RestaurantExtract(yelp_name=u'Peter Luger Steak House', yelp_id=u'peter-luger-steak-house-brooklyn', yelp_address=u'178 Broadway', yelp_city=u'Brooklyn', yelp_zipcode=u'11211', yelp_phone=u'17183877400', review_count=3011, rating=4.0, categories=[u'Steakhouses', u'Salad', u'American (New)'], neighborhoods=[u'South Williamsburg', u'Williamsburg - South Side'])),\n",
      " ('40364347',\n",
      "  RestaurantExtract(yelp_name=u'Metropolitan Club', yelp_id=u'metropolitan-club-new-york', yelp_address=u'1 E 60th St', yelp_city=u'New York', yelp_zipcode=u'10022', yelp_phone=u'12128387400', review_count=15, rating=4.0, categories=[u'Nightlife'], neighborhoods=[u'Upper East Side'])),\n",
      " ('40364355',\n",
      "  RestaurantExtract(yelp_name=u'The Palm', yelp_id=u'the-palm-new-york', yelp_address=u'837 2nd Ave', yelp_city=u'New York', yelp_zipcode=u'10017', yelp_phone=u'12126872953', review_count=235, rating=3.5, categories=[u'Steakhouses', u'Seafood'], neighborhoods=[u'Midtown East'])),\n",
      " ('40364362',\n",
      "  RestaurantExtract(yelp_name=u'Upstairs at 21', yelp_id=u'upstairs-at-21-new-york', yelp_address=u'21 W 52nd St', yelp_city=u'New York', yelp_zipcode=u'10019', yelp_phone=u'12125827200', review_count=5, rating=5.0, categories=[u'American (New)'], neighborhoods=[u'Midtown West'])),\n",
      " ('40364363', []),\n",
      " ('40364373', []),\n",
      " ('40364389',\n",
      "  RestaurantExtract(yelp_name=u'Old Town Bar & Restaurant', yelp_id=u'old-town-bar-and-restaurant-new-york', yelp_address=u'45 E 18th St', yelp_city=u'New York', yelp_zipcode=u'10003', yelp_phone=u'12125296732', review_count=255, rating=3.5, categories=[u'American (Traditional)', u'Bars'], neighborhoods=[u'Flatiron'])),\n",
      " ('40364404', []),\n",
      " ('40364439',\n",
      "  RestaurantExtract(yelp_name=u'Sevilla Restaurant & Bar', yelp_id=u'sevilla-restaurant-and-bar-new-york', yelp_address=u'62 Charles St', yelp_city=u'New York', yelp_zipcode=u'10014', yelp_phone=u'12129293189', review_count=247, rating=3.5, categories=[u'Spanish', u'Basque'], neighborhoods=[u'West Village'])),\n",
      " ('40364443', []),\n",
      " ('40364449',\n",
      "  RestaurantExtract(yelp_name=u'Gottscheer Hall', yelp_id=u'gottscheer-hall-ridgewood', yelp_address=u'657 Fairview Ave', yelp_city=u'Ridgewood', yelp_zipcode=u'11385', yelp_phone=u'17183663030', review_count=28, rating=4.5, categories=[u'Caterers', u'German', u'Pubs'], neighborhoods=[u'Ridgewood'])),\n",
      " ('40364467', []),\n",
      " ('40364518',\n",
      "  RestaurantExtract(yelp_name=u'7B Horseshoe Bar aka Vazacs', yelp_id=u'7b-horseshoe-bar-aka-vazacs-new-york', yelp_address=u'108 Ave B', yelp_city=u'New York', yelp_zipcode=u'10009', yelp_phone=u'12126776742', review_count=134, rating=3.5, categories=[u'Arcades', u'Dive Bars'], neighborhoods=[u'East Village', u'Alphabet City'])),\n",
      " ('40364529',\n",
      "  RestaurantExtract(yelp_name=u'Bens Best', yelp_id=u'bens-best-rego-park-2', yelp_address=u'96-40 Queens Blvd', yelp_city=u'Rego Park', yelp_zipcode=u'11374', yelp_phone=u'17188971700', review_count=203, rating=4.0, categories=[u'Delis', u'Kosher'], neighborhoods=[u'Rego Park'])),\n",
      " ('40364531',\n",
      "  RestaurantExtract(yelp_name=u'The Art Students League of New York', yelp_id=u'the-art-students-league-of-new-york-new-york', yelp_address=u'215 W 57th St', yelp_city=u'New York', yelp_zipcode=u'10019', yelp_phone=u'12122474510', review_count=20, rating=4.0, categories=[u'Art Schools', u'Art Galleries'], neighborhoods=[u'Midtown West'])),\n",
      " ('40364572',\n",
      "  RestaurantExtract(yelp_name=u\"Donohue's Steak House\", yelp_id=u'donohues-steak-house-new-york', yelp_address=u'845 Lexington Ave', yelp_city=u'New York', yelp_zipcode=u'10065', yelp_phone=u'12127440938', review_count=32, rating=3.5, categories=[u'Steakhouses'], neighborhoods=[u'Upper East Side'])),\n",
      " ('40364576',\n",
      "  RestaurantExtract(yelp_name=u'Tout Va Bien', yelp_id=u'tout-va-bien-new-york', yelp_address=u'311 W 51st St', yelp_city=u'New York', yelp_zipcode=u'10019', yelp_phone=u'12122650190', review_count=203, rating=3.5, categories=[u'French'], neighborhoods=[u\"Hell's Kitchen\", u'Theater District', u'Midtown West'])),\n",
      " ('40364581',\n",
      "  RestaurantExtract(yelp_name=u\"Junior's Restaurant\", yelp_id=u'juniors-restaurant-brooklyn', yelp_address=u'386 Flatbush Ave Extension', yelp_city=u'Brooklyn', yelp_zipcode=u'11238', yelp_phone=u'17188525257', review_count=960, rating=4.0, categories=[u'Bakeries', u'American (Traditional)', u'Desserts'], neighborhoods=[u'Downtown Brooklyn'])),\n",
      " ('40364668',\n",
      "  RestaurantExtract(yelp_name=u\"Marchi's Restaurant\", yelp_id=u'marchis-restaurant-new-york', yelp_address=u'251 E 31st St', yelp_city=u'New York', yelp_zipcode=u'10016', yelp_phone=u'12126792494', review_count=18, rating=3.0, categories=[u'Italian'], neighborhoods=[u'Kips Bay', u'Midtown East'])),\n",
      " ('40364681',\n",
      "  RestaurantExtract(yelp_name=u'Towne Cafe', yelp_id=u'towne-cafe-brooklyn', yelp_address=u'2602 E 15th St', yelp_city=u'Brooklyn', yelp_zipcode=u'11235', yelp_phone=u'17186469827', review_count=2, rating=3.0, categories=[u'Bars'], neighborhoods=[u'Sheepshead Bay', u'Brighton Beach'])),\n",
      " ('40364691', []),\n",
      " ('40364715',\n",
      "  RestaurantExtract(yelp_name=u'Old Homestead Steak House', yelp_id=u'old-homestead-steak-house-new-york', yelp_address=u'56 9th Ave', yelp_city=u'New York', yelp_zipcode=u'10011', yelp_phone=u'12122429040', review_count=543, rating=3.5, categories=[u'Steakhouses'], neighborhoods=[u'Meatpacking District', u'Chelsea'])),\n",
      " ('40364744',\n",
      "  RestaurantExtract(yelp_name=u'New Park Pizzeria', yelp_id=u'new-park-pizzeria-howard-beach', yelp_address=u'15671 Crossbay Blvd', yelp_city=u'Howard Beach', yelp_zipcode=u'11414', yelp_phone=u'17186413082', review_count=290, rating=4.5, categories=[u'Pizza'], neighborhoods=[u'Lindenwood'])),\n",
      " ('40364858',\n",
      "  RestaurantExtract(yelp_name=u'Douglaston Club', yelp_id=u'douglaston-club-little-neck', yelp_address=u'W Drive & Manor Road', yelp_city=u'Little Neck', yelp_zipcode=u'11362', yelp_phone=u'17182293900', review_count=2, rating=3.5, categories=[], neighborhoods=[u'Douglaston'])),\n",
      " ('40364863',\n",
      "  RestaurantExtract(yelp_name=u'Serendipity 3', yelp_id=u'serendipity-3-new-york', yelp_address=u'225 E 60th St', yelp_city=u'New York', yelp_zipcode=u'10022', yelp_phone=u'12128383531', review_count=2512, rating=3.0, categories=[u'Desserts', u'American (New)'], neighborhoods=[u'Upper East Side'])),\n",
      " ('40364889',\n",
      "  RestaurantExtract(yelp_name=u'Melody Lanes', yelp_id=u'melody-lanes-brooklyn', yelp_address=u'461 37th St', yelp_city=u'Brooklyn', yelp_zipcode=u'11232', yelp_phone=u'17188322695', review_count=108, rating=3.5, categories=[u'Bowling'], neighborhoods=[u'Sunset Park'])),\n",
      " ('40364920',\n",
      "  RestaurantExtract(yelp_name=u\"Rizzo's Fine Pizza\", yelp_id=u'rizzos-fine-pizza-astoria', yelp_address=u'3013 Steinway St', yelp_city=u'Astoria', yelp_zipcode=u'11103', yelp_phone=u'17187219862', review_count=383, rating=4.0, categories=[u'Pizza'], neighborhoods=[u'Astoria'])),\n",
      " ('40364956', []),\n",
      " ('40364958',\n",
      "  RestaurantExtract(yelp_name=u'White Horse Tavern', yelp_id=u'white-horse-tavern-new-york', yelp_address=u'567 Hudson St', yelp_city=u'New York', yelp_zipcode=u'10014', yelp_phone=u'12129893956', review_count=256, rating=2.5, categories=[u'Pubs', u'Burgers'], neighborhoods=[u'West Village'])),\n",
      " ('40365013',\n",
      "  RestaurantExtract(yelp_name=u'The Crystal Room', yelp_id=u'crystal-room-staten-island', yelp_address=u'67 Olympia Blvd', yelp_city=u'Staten Island', yelp_zipcode=u'10305', yelp_phone=u'17184478926', review_count=6, rating=4.0, categories=[u'Caterers', u'Wedding Planning', u'Venues & Event Spaces'], neighborhoods=[u'Arrochar'])),\n",
      " ('40365022',\n",
      "  RestaurantExtract(yelp_name=u'Labetti Post', yelp_id=u'labetti-post-staten-island', yelp_address=u'390 Hylan Boulevard', yelp_city=u'Staten Island', yelp_zipcode=u'10305', yelp_phone=u'17184429312', review_count=1, rating=5.0, categories=[u'Caterers', u'Venues & Event Spaces'], neighborhoods=[])),\n",
      " ('40365043',\n",
      "  RestaurantExtract(yelp_name=u'Shell Lanes', yelp_id=u'shell-lanes-brooklyn', yelp_address=u'1 Bouck Ct', yelp_city=u'Brooklyn', yelp_zipcode=u'11223', yelp_phone=u'17183366700', review_count=46, rating=3.5, categories=[u'Bowling'], neighborhoods=[u'Gravesend', u'Brighton Beach'])),\n",
      " ('40365075', []),\n",
      " ('40365098',\n",
      "  RestaurantExtract(yelp_name=u\"Forlini's Restaurant\", yelp_id=u'forlinis-restaurant-new-york', yelp_address=u'93 Baxter St', yelp_city=u'New York', yelp_zipcode=u'10013', yelp_phone=u'12123496779', review_count=104, rating=4.0, categories=[u'Italian'], neighborhoods=[u'Chinatown'])),\n",
      " ('40365120', []),\n",
      " ('40365166',\n",
      "  RestaurantExtract(yelp_name=u'Corner Bistro', yelp_id=u'corner-bistro-new-york', yelp_address=u'331 W 4th St', yelp_city=u'New York', yelp_zipcode=u'10014', yelp_phone=u'12122429502', review_count=1226, rating=3.5, categories=[u'Burgers', u'Bars'], neighborhoods=[u'West Village'])),\n",
      " ('40365226',\n",
      "  RestaurantExtract(yelp_name=u'Nostrand Donut Shop', yelp_id=u'nostrand-donut-shop-brooklyn', yelp_address=u'1449 Nostrand Ave', yelp_city=u'Brooklyn', yelp_zipcode=u'11226', yelp_phone=u'17188263008', review_count=16, rating=4.5, categories=[u'Bakeries'], neighborhoods=[u'Flatbush'])),\n",
      " ('40365239',\n",
      "  RestaurantExtract(yelp_name=u\"Dorrian's Red Hand\", yelp_id=u'dorrians-red-hand-new-york', yelp_address=u'1616 2nd Ave', yelp_city=u'New York', yelp_zipcode=u'10028', yelp_phone=u'12127726660', review_count=133, rating=2.5, categories=[u'American (Traditional)', u'Sports Bars', u'Burgers'], neighborhoods=[u'Upper East Side', u'Yorkville'])),\n",
      " ('40365264',\n",
      "  RestaurantExtract(yelp_name=u'La Grenouille', yelp_id=u'la-grenouille-new-york', yelp_address=u'3 E 52nd St', yelp_city=u'New York', yelp_zipcode=u'10022', yelp_phone=u'12127521495', review_count=240, rating=4.5, categories=[u'French'], neighborhoods=[u'Midtown East'])),\n",
      " ('40365280',\n",
      "  RestaurantExtract(yelp_name=u'Como Pizza', yelp_id=u'como-pizza-new-york', yelp_address=u'4035 Broadway', yelp_city=u'New York', yelp_zipcode=u'10032', yelp_phone=u'12129287867', review_count=40, rating=4.0, categories=[u'Pizza'], neighborhoods=[u'Washington Heights'])),\n",
      " ('40365288',\n",
      "  RestaurantExtract(yelp_name=u'Keats Restaurant', yelp_id=u'keats-restaurant-new-york-5', yelp_address=u'842 2nd Ave', yelp_city=u'New York', yelp_zipcode=u'10017', yelp_phone=u'12126825490', review_count=78, rating=3.0, categories=[u'American (Traditional)', u'Karaoke', u'Bars'], neighborhoods=[u'Midtown East'])),\n",
      " ('40365293',\n",
      "  RestaurantExtract(yelp_name=u\"Angelo's\", yelp_id=u'angelos-new-york-2', yelp_address=u'146 Mulberry St', yelp_city=u'New York', yelp_zipcode=u'10013', yelp_phone=u'12129661277', review_count=237, rating=3.5, categories=[u'Italian'], neighborhoods=[u'Little Italy'])),\n",
      " ('40365348',\n",
      "  RestaurantExtract(yelp_name=u\"Panchito's Mexican Restaurant & Cantina\", yelp_id=u'panchitos-mexican-restaurant-and-cantina-new-york', yelp_address=u'105 MacDougal St', yelp_city=u'New York', yelp_zipcode=u'10012', yelp_phone=u'12124735239', review_count=217, rating=2.5, categories=[u'Mexican'], neighborhoods=[u'Greenwich Village'])),\n",
      " ('40365355',\n",
      "  RestaurantExtract(yelp_name=u'Colandrea New Corner Restaurant', yelp_id=u'colandrea-new-corner-restaurant-brooklyn-2', yelp_address=u'7201 8th Ave', yelp_city=u'Brooklyn', yelp_zipcode=u'11228', yelp_phone=u'17188330800', review_count=62, rating=3.5, categories=[u'Italian', u'Seafood', u'American (Traditional)'], neighborhoods=[u'Dyker Heights'])),\n",
      " ('40365361', []),\n",
      " ('40365387',\n",
      "  RestaurantExtract(yelp_name=u\"Arturo's\", yelp_id=u'arturos-new-york', yelp_address=u'106 W Houston St', yelp_city=u'New York', yelp_zipcode=u'10012', yelp_phone=u'12126773820', review_count=419, rating=4.0, categories=[u'Pizza', u'Italian'], neighborhoods=[u'Greenwich Village'])),\n",
      " ('40365414',\n",
      "  RestaurantExtract(yelp_name=u'Le Perigord', yelp_id=u'le-perigord-new-york', yelp_address=u'405 E 52nd St', yelp_city=u'New York', yelp_zipcode=u'10022', yelp_phone=u'12127556244', review_count=124, rating=3.5, categories=[u'French'], neighborhoods=[u'Midtown East']))]\n"
     ]
    }
   ],
   "source": [
    "successes = filter(lambda x: x[1]['by_phone'] is not None, output)\n",
    "successes = map(lambda x: (x[0].camis, x[1]['by_phone']), successes)\n",
    "pprint(successes)"
   ]
  },
  {
   "cell_type": "code",
   "execution_count": null,
   "metadata": {
    "collapsed": false
   },
   "outputs": [],
   "source": [
    "def make_trwlr_output_pklable(output):\n",
    "    \n",
    "    def to_dicts_helper(result_tuple):\n",
    "        pulled_dict = result_tuple[1]\n",
    "        v = None\n",
    "        if pulled_dict['by_phone'] is not None:\n",
    "            v = pulled_dict['by_phone']._asdict()\n",
    "            \n",
    "        return (result_tuple[0]._asdict(), v)\n",
    "    \n",
    "    return map(to_dicts_helper, output)\n",
    "    "
   ]
  },
  {
   "cell_type": "code",
   "execution_count": null,
   "metadata": {
    "collapsed": false
   },
   "outputs": [],
   "source": [
    "pklable_output = make_trwlr_output_pklable(output)\n",
    "with open('./{0}-{1}output.pkl'.format(start_record+1, start_record+n), 'wb') as f:\n",
    "    pkl.dump(pklable_output, f)"
   ]
  },
  {
   "cell_type": "code",
   "execution_count": null,
   "metadata": {
    "collapsed": false,
    "scrolled": true
   },
   "outputs": [],
   "source": [
    "print \"Total restuarants processed: {0}\".format(len(output))\n",
    "print \"Successfully paired: {0}\".format(len(filter(lambda x: x[1]['by_phone'] is not None, output)))"
   ]
  },
  {
   "cell_type": "markdown",
   "metadata": {},
   "source": [
    "###Retry Failed Phone Pull by Address Search"
   ]
  },
  {
   "cell_type": "code",
   "execution_count": null,
   "metadata": {
    "collapsed": false
   },
   "outputs": [],
   "source": [
    "print len(successes)\n",
    "print len(failures)"
   ]
  },
  {
   "cell_type": "code",
   "execution_count": null,
   "metadata": {
    "collapsed": false,
    "scrolled": true
   },
   "outputs": [],
   "source": [
    "pprint(map(lambda x: (x.dba), failures)[:50])"
   ]
  },
  {
   "cell_type": "code",
   "execution_count": null,
   "metadata": {
    "collapsed": true
   },
   "outputs": [],
   "source": [
    "yelp_interfacer = yelp_api_interfacer(by_phone = False, by_addr_0 = True, by_addr_1= True)"
   ]
  },
  {
   "cell_type": "code",
   "execution_count": null,
   "metadata": {
    "collapsed": false,
    "scrolled": false
   },
   "outputs": [],
   "source": [
    "output_v2 = yelp_interfacer.pull_restaurants(failures)"
   ]
  },
  {
   "cell_type": "code",
   "execution_count": null,
   "metadata": {
    "collapsed": false
   },
   "outputs": [],
   "source": [
    "def find_match(result_tuple):\n",
    "    \n",
    "    r = re.compile('\\s+')\n",
    "    \n",
    "    record = result_tuple[0]\n",
    "    address = record.address\n",
    "    split_address = map(lambda a: a.strip(), address.split(' '))\n",
    "    yelp_records = result_tuple[1]\n",
    "    \n",
    "    for k, yelp_record in yelp_records.items(): \n",
    "        \n",
    "        if yelp_record is not None and yelp_record.address is not None:\n",
    "            \n",
    "            yel_addr = r.sub(' ', yelp_record.address).strip()\n",
    "            split_yelp_addr = map(lambda a: a.strip(), yel_addr.split(' '))\n",
    "            if len(split_yelp_addr) > 1 and len(split_address) > 1:\n",
    "                if split_address[0] == split_yelp_addr[0] and \\\n",
    "                split_address[1].lower()[0] == split_yelp_addr[1].lower()[0]:\n",
    "                    \n",
    "                    return (record, yelp_record)\n",
    "\n",
    "    return None"
   ]
  },
  {
   "cell_type": "code",
   "execution_count": null,
   "metadata": {
    "collapsed": false,
    "scrolled": true
   },
   "outputs": [],
   "source": [
    "found = filter(None, map(find_match, output_v2))"
   ]
  },
  {
   "cell_type": "code",
   "execution_count": null,
   "metadata": {
    "collapsed": true
   },
   "outputs": [],
   "source": [
    "pklable_found_p1 = map(lambda x: (x[0]._asdict(), x[1]._asdict()), found)\n",
    "with open('./{0}-{1}found_second_pass.pkl'.format(start_record+1, start_record + n), 'wb') as f:\n",
    "    pkl.dump(pklable_found_p1, f)"
   ]
  },
  {
   "cell_type": "code",
   "execution_count": null,
   "metadata": {
    "collapsed": false,
    "scrolled": true
   },
   "outputs": [],
   "source": [
    "c = Counter(map(lambda x: (x.dba), failures))\n",
    "c.most_common(30)"
   ]
  },
  {
   "cell_type": "code",
   "execution_count": null,
   "metadata": {
    "collapsed": false,
    "scrolled": true
   },
   "outputs": [],
   "source": [
    "c_retry = Counter(map(lambda x: x[0].dba, found))\n",
    "c_retry.most_common(30)"
   ]
  },
  {
   "cell_type": "code",
   "execution_count": null,
   "metadata": {
    "collapsed": true
   },
   "outputs": [],
   "source": [
    "c.subtract(c_retry)"
   ]
  },
  {
   "cell_type": "code",
   "execution_count": null,
   "metadata": {
    "collapsed": false,
    "scrolled": false
   },
   "outputs": [],
   "source": [
    "c.most_common(30)"
   ]
  },
  {
   "cell_type": "markdown",
   "metadata": {},
   "source": [
    "#--------------------------------------------------------------------------------------------"
   ]
  },
  {
   "cell_type": "markdown",
   "metadata": {},
   "source": [
    "## Build Restaurants Tables"
   ]
  },
  {
   "cell_type": "code",
   "execution_count": null,
   "metadata": {
    "collapsed": false
   },
   "outputs": [],
   "source": [
    "# TODO make more systematic\n",
    "output_p1_paths = ['./1-10000output.pkl', './10001-20000output.pkl', './20001-30000output.pkl']\n",
    "output_p2_paths = ['./1-10000found_second_pass.pkl', './10001-20000found_second_pass.pkl', './20001-30000found_second_pass.pkl']\n",
    "\n",
    "outputs_p1 = []\n",
    "outputs_p2 = []\n",
    "for path in output_p1_paths:\n",
    "    with open(path, 'rb') as f:\n",
    "        outputs_p1.extend(pkl.load(f))\n",
    "        \n",
    "for path in output_p2_paths:\n",
    "    with open(path, 'rb') as f:\n",
    "        outputs_p2.extend(pkl.load(f))\n",
    "        "
   ]
  },
  {
   "cell_type": "code",
   "execution_count": null,
   "metadata": {
    "collapsed": false
   },
   "outputs": [],
   "source": [
    "all_successes = []\n",
    "all_successes.extend(filter(lambda x: x[1] is not None, outputs_p1))\n",
    "all_successes.extend(outputs_p2)\n",
    "print len(all_successes)"
   ]
  },
  {
   "cell_type": "code",
   "execution_count": null,
   "metadata": {
    "collapsed": false
   },
   "outputs": [],
   "source": [
    "c = Counter(map(lambda x: x[0].get('camis'), all_successes))\n",
    "print c.most_common(5)\n",
    "# No duplicates? :-)"
   ]
  },
  {
   "cell_type": "code",
   "execution_count": null,
   "metadata": {
    "collapsed": true
   },
   "outputs": [],
   "source": [
    "# restaurants\n",
    "## (yelp_id, camis, yelp_name, address, zipcode)\n",
    "# neighborhoods\n",
    "## (yelp_id, neighborhood)\n",
    "# categories\n",
    "## (yeld_id, category)"
   ]
  },
  {
   "cell_type": "markdown",
   "metadata": {},
   "source": [
    "## Restaurants Table"
   ]
  },
  {
   "cell_type": "code",
   "execution_count": null,
   "metadata": {
    "collapsed": false
   },
   "outputs": [],
   "source": [
    "rtb = RestaurantsTableBuilder()\n",
    "rtb.build_table()\n",
    "rtb.add_records(all_successes)"
   ]
  },
  {
   "cell_type": "markdown",
   "metadata": {},
   "source": [
    "## Categories Table"
   ]
  },
  {
   "cell_type": "code",
   "execution_count": null,
   "metadata": {
    "collapsed": true
   },
   "outputs": [],
   "source": [
    "ctb = CategoriesTableBuilder()\n",
    "ctb.build_table()\n",
    "ctb.add_records(all_successes)"
   ]
  },
  {
   "cell_type": "markdown",
   "metadata": {},
   "source": [
    "##Neighborhoods Table"
   ]
  },
  {
   "cell_type": "code",
   "execution_count": null,
   "metadata": {
    "collapsed": false
   },
   "outputs": [],
   "source": [
    "ntb = NeighborhoodsTableBuilder()\n",
    "ntb.build_table()\n",
    "ntb.add_records(all_successes)"
   ]
  }
 ],
 "metadata": {
  "kernelspec": {
   "display_name": "Python 2",
   "language": "python",
   "name": "python2"
  },
  "language_info": {
   "codemirror_mode": {
    "name": "ipython",
    "version": 2
   },
   "file_extension": ".py",
   "mimetype": "text/x-python",
   "name": "python",
   "nbconvert_exporter": "python",
   "pygments_lexer": "ipython2",
   "version": "2.7.6"
  }
 },
 "nbformat": 4,
 "nbformat_minor": 0
}
