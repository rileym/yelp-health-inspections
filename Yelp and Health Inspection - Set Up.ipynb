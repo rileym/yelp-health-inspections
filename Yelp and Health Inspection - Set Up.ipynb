{
 "cells": [
  {
   "cell_type": "code",
   "execution_count": null,
   "metadata": {
    "collapsed": false
   },
   "outputs": [],
   "source": [
    "import csv\n",
    "import re\n",
    "import time\n",
    "import pdb\n",
    "import sys\n",
    "import dill as pkl\n",
    "from collections import namedtuple, Counter\n",
    "from operator import itemgetter\n",
    "import psycopg2\n",
    "from psycopg2.extras import NamedTupleConnection\n",
    "import requests\n",
    "from requests_oauthlib import OAuth1\n",
    "from pprint import pprint"
   ]
  },
  {
   "cell_type": "code",
   "execution_count": 248,
   "metadata": {
    "collapsed": true
   },
   "outputs": [],
   "source": [
    "###\n",
    "### TODO Comment Up!\n",
    "###"
   ]
  },
  {
   "cell_type": "markdown",
   "metadata": {},
   "source": [
    "## _This Notebook: Download Raw Data, Clean, Create \"inspections\" table, Pull Restaurant Urls, Build \"restaurants\", \"categories\", and \"neighborhoods\" Tables_"
   ]
  },
  {
   "cell_type": "markdown",
   "metadata": {},
   "source": [
    "#--------------------------------------------------------------------------------------------"
   ]
  },
  {
   "cell_type": "markdown",
   "metadata": {},
   "source": [
    "## Set Up Database"
   ]
  },
  {
   "cell_type": "markdown",
   "metadata": {},
   "source": [
    "###Download Data"
   ]
  },
  {
   "cell_type": "code",
   "execution_count": null,
   "metadata": {
    "collapsed": true
   },
   "outputs": [],
   "source": [
    "json_url = 'https://data.cityofnewyork.us/api/views/xx67-kt59/rows.json?accessType=DOWNLOAD'\n",
    "csv_url = 'https://data.cityofnewyork.us/api/views/xx67-kt59/rows.csv?accessType=DOWNLOAD'"
   ]
  },
  {
   "cell_type": "code",
   "execution_count": null,
   "metadata": {
    "collapsed": false
   },
   "outputs": [],
   "source": [
    "print csv_url"
   ]
  },
  {
   "cell_type": "code",
   "execution_count": null,
   "metadata": {
    "collapsed": false
   },
   "outputs": [],
   "source": [
    "r = requests.get(csv_url)\n",
    "len(r.content)"
   ]
  },
  {
   "cell_type": "markdown",
   "metadata": {},
   "source": [
    "### Clean CSV"
   ]
  },
  {
   "cell_type": "code",
   "execution_count": null,
   "metadata": {
    "collapsed": true
   },
   "outputs": [],
   "source": [
    "with open('raw_inspection_data.csv', 'w') as f:\n",
    "    f.write(r.content)"
   ]
  },
  {
   "cell_type": "code",
   "execution_count": null,
   "metadata": {
    "collapsed": false
   },
   "outputs": [],
   "source": [
    "class inspection_entry():\n",
    "    \n",
    "    ## TODO data structure to build violation code table\n",
    "    \n",
    "    no_filter = ['CAMIS',\n",
    "     'ZIPCODE',\n",
    "     'PHONE',\n",
    "     'INSPECTION DATE',\n",
    "     'ACTION',\n",
    "     'VIOLATION CODE',\n",
    "     'SCORE',\n",
    "     'GRADE DATE',\n",
    "     'RECORD DATE',\n",
    "     'INSPECTION TYPE']\n",
    "    \n",
    "    action_map = {'No violations were recorded at the time of this inspection.':'No violations cited.',\n",
    "     'Violations were cited in the following area(s).':'Violations cited',\n",
    "     'Establishment Closed by DOHMH.  Violations were cited in the following area(s) and those requiring immediate action were addressed.':'Establishment Closed by DOHMH'}\n",
    "    \n",
    "    def __init__(self, entry_dict, null_val = 'NULL'):\n",
    "        \n",
    "        self.null = null_val\n",
    "        self.values = self._process(entry_dict)\n",
    "    \n",
    "    def _encode_clean(self, raw_str):\n",
    "        \n",
    "        return raw_str.replace('Â', '') if raw_str.strip() else self.null\n",
    "\n",
    "    def _phone_process(self, phone):\n",
    "        \n",
    "        r = re.compile('^[\\d +-]+$')\n",
    "        r_replace = re.compile('[ +-]')\n",
    "        return r_replace.sub('', phone) if r.match(phone) else self.null\n",
    "        \n",
    "    def _grade_process(self, grade):\n",
    "        \n",
    "        r = re.compile('^[A-Z]$')\n",
    "        return grade.strip() if r.match(grade.strip()) else self.null\n",
    "    \n",
    "    def _action_process(self, action):\n",
    "        \n",
    "        if not action:\n",
    "            return self.null\n",
    "        else:\n",
    "            return inspection_entry.action_map.get(action,action)\n",
    "    \n",
    "    def _crit_process(self, crit_val):\n",
    "        \n",
    "        if not crit_val:\n",
    "            return self.null\n",
    "        elif crit_val == 'Critical':\n",
    "            return 1\n",
    "        else:\n",
    "            return 0\n",
    "        \n",
    "    def _addr_process(self, building, street):\n",
    "        \n",
    "        r = re.compile('\\s+')\n",
    "        addr = ' '.join((building, street))\n",
    "        return r.sub(' ', addr).strip()\n",
    "        \n",
    "    def _i_date_process(self, i_date):\n",
    "    \n",
    "        return i_date if i_date != '01/01/1900' else self.null\n",
    "    \n",
    "    def _process(self, entry_dict):\n",
    "             \n",
    "        na_fill = lambda v: v if v else self.null\n",
    "        \n",
    "        values = {}\n",
    "        for field in inspection_entry.no_filter:\n",
    "            values[field.replace(' ', '_')] = na_fill(entry_dict.get(field))\n",
    "        \n",
    "        values['DBA'] = self._encode_clean(entry_dict.get('DBA'))\n",
    "        values['ADDRESS'] = self._addr_process(entry_dict.get('BUILDING'), entry_dict.get('STREET'))\n",
    "        values['CRITIAL FLAG'.replace(' ', '_')] = self._crit_process(entry_dict.get('CRITICAL FLAG'))\n",
    "        values['INSPECTION DATE'.replace(' ', '_')] = self._i_date_process(entry_dict.get('INSPECTION DATE'))\n",
    "        values['ACTION'] = self._action_process(entry_dict.get('ACTION'))\n",
    "        values['GRADE'] = self._grade_process(entry_dict.get('GRADE'))\n",
    "        values['PHONE'] = self._phone_process(entry_dict.get('PHONE'))\n",
    "\n",
    "        return values"
   ]
  },
  {
   "cell_type": "code",
   "execution_count": null,
   "metadata": {
    "collapsed": false
   },
   "outputs": [],
   "source": [
    "st = time.clock()\n",
    "\n",
    "with open('./raw_inspection_data.csv', 'rt') as f:\n",
    "    dialect = csv.Sniffer().sniff(f.read(1024))\n",
    "    f.seek(0)\n",
    "    reader = csv.reader(f, dialect)\n",
    "    header = reader.next()\n",
    "    \n",
    "    entries = []\n",
    "    for row in reader:\n",
    "        entry_dict =  dict(zip(header, row))\n",
    "        entries.append(inspection_entry(entry_dict))\n",
    "        \n",
    "ft = time.clock()\n",
    "print \"{0:f} seconds\".format(ft-st)"
   ]
  },
  {
   "cell_type": "code",
   "execution_count": null,
   "metadata": {
    "collapsed": false
   },
   "outputs": [],
   "source": [
    "entries[0].values.keys()"
   ]
  },
  {
   "cell_type": "code",
   "execution_count": null,
   "metadata": {
    "collapsed": false
   },
   "outputs": [],
   "source": [
    "st = time.clock()\n",
    "fieldnames = ['CAMIS',\n",
    "            'DBA',\n",
    "            'ADDRESS',\n",
    "            'ZIPCODE',\n",
    "            'PHONE',\n",
    "            'INSPECTION_TYPE',\n",
    "            'INSPECTION_DATE',\n",
    "            'ACTION',\n",
    "            'SCORE',\n",
    "            'GRADE',\n",
    "            'GRADE_DATE',\n",
    "            'VIOLATION_CODE',\n",
    "            'CRITIAL_FLAG',\n",
    "            'RECORD_DATE']\n",
    "\n",
    "csv.register_dialect('pipes', delimiter='|', quotechar = '\"', quoting = csv.QUOTE_MINIMAL)\n",
    "with open('cleaned_inspection_data.csv', 'wt') as f:\n",
    "    writer = csv.DictWriter(f, fieldnames, dialect='pipes')\n",
    "    writer.writeheader()\n",
    "    for entry in entries:\n",
    "        writer.writerow(entry.values)\n",
    "        \n",
    "ft = time.clock()\n",
    "print \"{0:f} seconds\".format(ft-st)"
   ]
  },
  {
   "cell_type": "code",
   "execution_count": null,
   "metadata": {
    "collapsed": false
   },
   "outputs": [],
   "source": [
    "!head ./cleaned_inspection_data.csv"
   ]
  },
  {
   "cell_type": "markdown",
   "metadata": {},
   "source": [
    "### Add \"inspections\" Table to Database"
   ]
  },
  {
   "cell_type": "code",
   "execution_count": null,
   "metadata": {
    "collapsed": false
   },
   "outputs": [],
   "source": [
    "conn = psycopg2.connect(\"dbname=yelp\")"
   ]
  },
  {
   "cell_type": "code",
   "execution_count": null,
   "metadata": {
    "collapsed": true
   },
   "outputs": [],
   "source": [
    "c = conn.cursor()"
   ]
  },
  {
   "cell_type": "code",
   "execution_count": null,
   "metadata": {
    "collapsed": true
   },
   "outputs": [],
   "source": [
    "c.execute(\"DROP TABLE IF EXISTS inspections\")"
   ]
  },
  {
   "cell_type": "code",
   "execution_count": null,
   "metadata": {
    "collapsed": false
   },
   "outputs": [],
   "source": [
    "c.execute('''CREATE TABLE inspections (\n",
    "CAMIS varchar(10),\n",
    "DBA varchar(255),\n",
    "ADDRESS  varchar(100),\n",
    "ZIPCODE varchar(5),\n",
    "PHONE varchar(12),\n",
    "INSPECTION_TYPE varchar(64),\n",
    "INSPECTION_DATE date,\n",
    "ACTION varchar(150),\n",
    "SCORE smallint,\n",
    "GRADE varchar(1),\n",
    "GRADE_DATE date,\n",
    "VIOLATION_CODE varchar(3),\n",
    "CRITICAL varchar(1),\n",
    "RECORD_DATE date\n",
    ")'''\n",
    ")"
   ]
  },
  {
   "cell_type": "code",
   "execution_count": null,
   "metadata": {
    "collapsed": true
   },
   "outputs": [],
   "source": [
    "conn.commit()"
   ]
  },
  {
   "cell_type": "code",
   "execution_count": null,
   "metadata": {
    "collapsed": false
   },
   "outputs": [],
   "source": [
    "copy_command = '''\n",
    "COPY inspections \n",
    "FROM STDIN\n",
    "WITH (\n",
    "FORMAT CSV,\n",
    "DELIMITER '|',\n",
    "NULL 'NULL',\n",
    "HEADER TRUE,\n",
    "QUOTE '\"'\n",
    ");\n",
    "'''\n",
    "\n",
    "with open('./cleaned_inspection_data.csv', 'rt') as f:\n",
    "    c.copy_expert(copy_command, f)\n",
    "\n",
    "conn.commit()"
   ]
  },
  {
   "cell_type": "code",
   "execution_count": null,
   "metadata": {
    "collapsed": true
   },
   "outputs": [],
   "source": [
    "conn.close()"
   ]
  },
  {
   "cell_type": "markdown",
   "metadata": {},
   "source": [
    "#--------------------------------------------------------------------------------------------"
   ]
  },
  {
   "cell_type": "markdown",
   "metadata": {},
   "source": [
    "## Yelp API"
   ]
  },
  {
   "cell_type": "code",
   "execution_count": 202,
   "metadata": {
    "collapsed": false
   },
   "outputs": [],
   "source": [
    "class yelp_api_response_parser():\n",
    "    ''' Takes the json style response and extracts the desired restaurant informtion.\n",
    "    '''\n",
    "    \n",
    "    def __init__(self, response_json):\n",
    "        \n",
    "        self.RestaurantInfo = namedtuple('RestaurantInfo', 'name, biz_id, address, snippet, categories, neighborhoods')\n",
    "        self.json = response_json\n",
    "        \n",
    "        \n",
    "    def parse(self):\n",
    "        \n",
    "        if self.json.get('total') == 0:\n",
    "            return None\n",
    "    \n",
    "        biz_struct = self.json.get('businesses')[0]\n",
    "        \n",
    "        name = biz_struct.get('name')\n",
    "        biz_id = biz_struct.get('id')\n",
    "        address = biz_struct.get('location').get('address')\n",
    "        address = address[0] if len(address) > 0 else None\n",
    "        snippet = biz_struct.get('snippet_text')\n",
    "    \n",
    "        cat_list = biz_struct.get('categories', [])\n",
    "        categories = map(itemgetter(0), cat_list)\n",
    "        \n",
    "        neighborhoods = biz_struct.get('location').get('neighborhoods', []) \n",
    "        \n",
    "        ## TODO grab phone number, zipcode\n",
    "        \n",
    "        info_iterable = [name, biz_id, address, snippet, categories, neighborhoods]\n",
    "        return self.RestaurantInfo._make(info_iterable)\n",
    "    \n",
    "    \n",
    "####--------------------------------------------------------------------------------------------------------------####    \n",
    "####--------------------------------------------------------------------------------------------------------------####\n",
    "####--------------------------------------------------------------------------------------------------------------####\n",
    "\n",
    "\n",
    "class yelp_api_interfacer():\n",
    "    ''' Middle level class. Take a restaurant description (tuple) \n",
    "    and interfaces with the yelp api, then passes the response to\n",
    "    a response parser.\n",
    "    '''\n",
    "    \n",
    "    def __init__(self, by_phone = True, by_addr_0 = False, by_addr_1 = False):\n",
    "        \n",
    "        self.CONSUMER_KEY = 'kvO4vOdaI2jjLjA0eUEXiQ'\n",
    "        self.CONSUMER_SECRET = 'H7na91jgidG_k3_iiHi_2qbkJMQ'\n",
    "        self.TOKEN = '6WN41TOPmVeEgu-w0iM8gyyKhMM5rCu7'\n",
    "        self.TOKEN_SECRET = 'erbNVdX7x6oG0ZCbsZVzfCZg7dg'\n",
    "        self.SEARCH_ADDR_BASE_URL = 'http://api.yelp.com/v2/search'\n",
    "        self.SEARCH_PHONE_BASE_URL = 'http://api.yelp.com/v2/phone_search'\n",
    "        self.AUTH = OAuth1(self.CONSUMER_KEY, self.CONSUMER_SECRET,\n",
    "                  self.TOKEN, self.TOKEN_SECRET)\n",
    "        self.MAX_GET_ATTEMPTS = 3\n",
    "        \n",
    "        self.by_phone = by_phone\n",
    "        self.by_addr_0 = by_addr_0\n",
    "        self.by_addr_1 = by_addr_1\n",
    "    \n",
    "    def pull_restaurants(self, restaurants):\n",
    "        restaurant_infos = []\n",
    "        print \"{0} Restaurants to pull.\".format(len(restaurants))\n",
    "        for i,r in enumerate(restaurants):\n",
    "            \n",
    "            verbose = (i % 250 == 0)\n",
    "            if verbose:\n",
    "                print \"Pulling restaurant number {0}...\".format(i)\n",
    "                sys.stdout.flush()\n",
    "                \n",
    "            restaurant_infos.append(self._pull_restaurant(r))\n",
    "            \n",
    "            if verbose:\n",
    "                print \"Restaurant {0} completed.\".format(i)\n",
    "                sys.stdout.flush()\n",
    "        \n",
    "        print \"Completion: {0} restaurants pulled.\".format(len(restaurants))\n",
    "        return restaurant_infos\n",
    "    \n",
    "    def _pull_restaurant(self, rest_tuple):\n",
    "        \n",
    "        result_dict = {}\n",
    "        if self.by_phone:\n",
    "            result_dict['by_phone'] = self._pull_restaurant_by_phone(rest_tuple)\n",
    "        if self.by_addr_0:\n",
    "            result_dict['by_addr_0'] = self._pull_restaurant_by_address(rest_tuple, sort = 0)\n",
    "        if self.by_addr_1:\n",
    "            result_dict['by_addr_1'] = self._pull_restaurant_by_address(rest_tuple, sort = 1)      \n",
    "\n",
    "        return (rest_tuple, result_dict)\n",
    "    \n",
    "    \n",
    "    def _pull_restaurant_by_address(self, rest_tuple, sort = 0):\n",
    "        \n",
    "        name = rest_tuple.dba\n",
    "        addr = \"{0}, {1}\".format(rest_tuple.address, rest_tuple.zipcode)\n",
    "        payload = {'term':name,\n",
    "            'location':addr,\n",
    "            'limit':1,\n",
    "            'sort':sort\n",
    "            }\n",
    "        \n",
    "        extract = self._fetch(rest_tuple, payload, phone = False)\n",
    "        return extract\n",
    "    \n",
    "    \n",
    "    \n",
    "    def _pull_restaurant_by_phone(self, rest_tuple):\n",
    "        \n",
    "        phone = rest_tuple.phone\n",
    "        if not phone:\n",
    "            return None\n",
    "        \n",
    "        cc = 'US'\n",
    "        payload = {'phone':phone,\n",
    "            'cc':cc,\n",
    "            'limit':1 \n",
    "            }\n",
    "        \n",
    "        extract = self._fetch(rest_tuple, payload, phone = True)\n",
    "        return extract\n",
    "        \n",
    "\n",
    "    def _fetch(self, rest_tuple, payload, phone):\n",
    "        \n",
    "        \n",
    "        base_url = self.SEARCH_PHONE_BASE_URL if phone else self.SEARCH_ADDR_BASE_URL\n",
    "        response = None\n",
    "        for _ in xrange(self.MAX_GET_ATTEMPTS):\n",
    "            \n",
    "            try:\n",
    "                response = requests.get(url = base_url, params = payload, auth = self.AUTH)\n",
    "                break\n",
    "            except requests.ConnectionError:\n",
    "                self._report_connection_error(rest_tuple, payload)\n",
    "\n",
    "        if response is None:\n",
    "            return None\n",
    "         \n",
    "        try:\n",
    "            return yelp_api_response_parser(response.json()).parse()\n",
    "        \n",
    "        except:\n",
    "            self._report_parse_error(rest_tuple, response)\n",
    "            response_json = response.json()\n",
    "            if 'error' in response_json:\n",
    "                return None\n",
    "            elif 'businesses' in response_json and len(response_json.get('businesses')) > 0:\n",
    "                return None\n",
    "            else:\n",
    "                raise\n",
    "        \n",
    "        \n",
    "    def _report_parse_error(self, rest_tuple, response):\n",
    "            print '************************'\n",
    "            print 'Could not parse response.'\n",
    "            print rest_tuple._asdict()\n",
    "            print response.json()\n",
    "            print '************************'        \n",
    "        \n",
    "    def _report_connection_error(self, rest_tuple, payload):\n",
    "            print '************************'\n",
    "            print \"Connection Error encountered.\"\n",
    "            print rest_tuple._asdict()\n",
    "            print \"\\tUrl:\"\n",
    "            print self.SEARCH_ADDR_BASE_URL\n",
    "            print \"\\tParams:\"\n",
    "            print payload\n",
    "            print '************************'\n",
    "        \n",
    "\n",
    "####--------------------------------------------------------------------------------------------------------------####\n",
    "####--------------------------------------------------------------------------------------------------------------####\n",
    "####--------------------------------------------------------------------------------------------------------------####\n",
    "\n",
    "\n",
    "class yelp_api_trawler():\n",
    "    '''Interacts with the database and sends \n",
    "    (camis, dba, address, zipcode, phone) tuples to the yelp api handlers.\n",
    "    '''\n",
    "    \n",
    "    def __init__(self, start_read = 0, **kwargs):\n",
    "            \n",
    "        self.current = start_read\n",
    "        self.interface = yelp_api_interfacer(**kwargs)\n",
    "        self.conn = None\n",
    "        self.temp_table = 'trwlr_table'\n",
    "    \n",
    "    def seek(self, n):\n",
    "        self.current = n\n",
    "    \n",
    "    \n",
    "    def read_next_n(self, n):\n",
    "        \n",
    "        if not self.conn:\n",
    "            self.open_conn()\n",
    "           \n",
    "        q = '''SELECT camis, dba, address, zipcode, phone\n",
    "            FROM {temp_table}\n",
    "            LIMIT {0} OFFSET {1};\n",
    "        '''.format(n, self.current, temp_table = self.temp_table)\n",
    "        \n",
    "        self.c.execute(q)\n",
    "        query_result_tuples = self.c.fetchall()\n",
    "        extract_tuples = self.interface.pull_restaurants(query_result_tuples)\n",
    "        self.current += n\n",
    "        return extract_tuples\n",
    "         \n",
    "    def read_all(self):\n",
    "        \n",
    "        if not self.conn:\n",
    "            self.open_conn()\n",
    "        \n",
    "        q = '''SELECT *\n",
    "            FROM {temp_table};\n",
    "            '''.format(self.current, temp_table = self.temp_table)\n",
    "        self.c.execute(q)\n",
    "        query_result_tuples = self.c.fetchall()\n",
    "        \n",
    "        extract_tuples = self.interface.pull_restaurants(query_result_tuples)\n",
    "        self.current = 0\n",
    "        return extract_tuples\n",
    "    \n",
    "    def open_conn(self):\n",
    "        \n",
    "        self.conn = psycopg2.connect(\"dbname=yelp\", cursor_factory=psycopg2.extras.NamedTupleCursor)\n",
    "        self.c = self.conn.cursor()\n",
    "        q = '''CREATE TEMP TABLE {temp_table} AS (\n",
    "            SELECT camis, dba, address, zipcode, phone\n",
    "            FROM inspections\n",
    "            GROUP BY camis, dba, address, zipcode, phone\n",
    "            ORDER BY camis ASC\n",
    "            );\n",
    "            '''.format(temp_table = self.temp_table)\n",
    "        self.c.execute(q)\n",
    "    \n",
    "    def close_conn(self):\n",
    "        if self.conn is not None:\n",
    "            self.conn.close()\n",
    "        self.conn = None\n",
    "        \n",
    "    ## TODO: add __open__ and __close__ to use with thewith statement.\n",
    "\n",
    "    \n",
    "\n",
    "    "
   ]
  },
  {
   "cell_type": "code",
   "execution_count": 207,
   "metadata": {
    "collapsed": false
   },
   "outputs": [],
   "source": [
    "trwlr = yelp_api_trawler(start_read = 0, by_phone = True, by_addr_0 = False, by_addr_1= False)"
   ]
  },
  {
   "cell_type": "code",
   "execution_count": 208,
   "metadata": {
    "collapsed": false,
    "scrolled": true
   },
   "outputs": [
    {
     "name": "stdout",
     "output_type": "stream",
     "text": [
      "5230 Restaurants to pull.\n",
      "Pulling restaurant number 0...\n",
      "Restaurant 0 completed.\n",
      "************************\n",
      "Could not parse response.\n",
      "OrderedDict([('camis', '50007672'), ('dba', 'ITALIA 90'), ('address', '1011 ALLERTON AVENUE'), ('zipcode', '10469'), ('phone', '0000000000')])\n",
      "{u'error': {u'text': u'One or more parameters are invalid in request', u'id': u'INVALID_PARAMETER', u'field': u'phone'}}\n",
      "************************\n",
      "Pulling restaurant number 250...\n",
      "Restaurant 250 completed.\n",
      "Pulling restaurant number 500...\n",
      "Restaurant 500 completed.\n",
      "Pulling restaurant number 750...\n",
      "Restaurant 750 completed.\n",
      "Pulling restaurant number 1000...\n",
      "Restaurant 1000 completed.\n",
      "Pulling restaurant number 1250...\n",
      "Restaurant 1250 completed.\n",
      "Pulling restaurant number 1500...\n",
      "Restaurant 1500 completed.\n",
      "Pulling restaurant number 1750...\n",
      "Restaurant 1750 completed.\n",
      "Pulling restaurant number 2000...\n",
      "Restaurant 2000 completed.\n",
      "************************\n",
      "Could not parse response.\n",
      "OrderedDict([('camis', '50015341'), ('dba', 'FORMERLY CROWS'), ('address', '85 WASHINGTON PLACE'), ('zipcode', '10011'), ('phone', '1917783432')])\n",
      "{u'error': {u'text': u'One or more parameters are invalid in request', u'id': u'INVALID_PARAMETER', u'field': u'phone'}}\n",
      "************************\n",
      "Pulling restaurant number 2250...\n",
      "Restaurant 2250 completed.\n",
      "Pulling restaurant number 2500...\n",
      "Restaurant 2500 completed.\n",
      "Pulling restaurant number 2750...\n",
      "Restaurant 2750 completed.\n",
      "Pulling restaurant number 3000...\n",
      "Restaurant 3000 completed.\n",
      "Pulling restaurant number 3250...\n",
      "Restaurant 3250 completed.\n",
      "Pulling restaurant number 3500...\n",
      "Restaurant 3500 completed.\n",
      "Pulling restaurant number 3750...\n",
      "Restaurant 3750 completed.\n",
      "Pulling restaurant number 4000...\n",
      "Restaurant 4000 completed.\n",
      "Pulling restaurant number 4250...\n",
      "Restaurant 4250 completed.\n",
      "************************\n",
      "Could not parse response.\n",
      "OrderedDict([('camis', '50035070'), ('dba', None), ('address', '7921 5TH AVE'), ('zipcode', '11209'), ('phone', '71873148455')])\n",
      "{u'error': {u'text': u'One or more parameters are invalid in request', u'id': u'INVALID_PARAMETER', u'field': u'phone'}}\n",
      "************************\n",
      "Pulling restaurant number 4500...\n",
      "Restaurant 4500 completed.\n",
      "************************\n",
      "Could not parse response.\n",
      "OrderedDict([('camis', '50035434'), ('dba', None), ('address', '9313 ROOSEVELT AVE'), ('zipcode', '11372'), ('phone', '646639467')])\n",
      "{u'error': {u'text': u'One or more parameters are invalid in request', u'id': u'INVALID_PARAMETER', u'field': u'phone'}}\n",
      "************************\n",
      "************************\n",
      "Could not parse response.\n",
      "OrderedDict([('camis', '50035750'), ('dba', None), ('address', '167 MARCUS GARVEY BLVD'), ('zipcode', '11221'), ('phone', '71822460030')])\n",
      "{u'error': {u'text': u'One or more parameters are invalid in request', u'id': u'INVALID_PARAMETER', u'field': u'phone'}}\n",
      "************************\n",
      "Pulling restaurant number 4750...\n",
      "Restaurant 4750 completed.\n",
      "************************\n",
      "Could not parse response.\n",
      "OrderedDict([('camis', '50036682'), ('dba', 'FEEL GOOD'), ('address', '4708 48TH ST'), ('zipcode', '11377'), ('phone', '34779722323')])\n",
      "{u'error': {u'text': u'One or more parameters are invalid in request', u'id': u'INVALID_PARAMETER', u'field': u'phone'}}\n",
      "************************\n",
      "************************\n",
      "Could not parse response.\n",
      "OrderedDict([('camis', '50036780'), ('dba', 'CAPITAL ONE CAFE'), ('address', '299 PARK AVE'), ('zipcode', '10171'), ('phone', '91724330038')])\n",
      "{u'error': {u'text': u'One or more parameters are invalid in request', u'id': u'INVALID_PARAMETER', u'field': u'phone'}}\n",
      "************************\n",
      "************************\n",
      "Could not parse response.\n",
      "OrderedDict([('camis', '50037058'), ('dba', 'PACIFIC KITCHEN'), ('address', '4255 AMBOY RD'), ('zipcode', '10308'), ('phone', '71894868888')])\n",
      "{u'error': {u'text': u'One or more parameters are invalid in request', u'id': u'INVALID_PARAMETER', u'field': u'phone'}}\n",
      "************************\n",
      "************************\n",
      "Could not parse response.\n",
      "OrderedDict([('camis', '50037121'), ('dba', None), ('address', '3668 BROADWAY'), ('zipcode', '10031'), ('phone', '212234249')])\n",
      "{u'error': {u'text': u'One or more parameters are invalid in request', u'id': u'INVALID_PARAMETER', u'field': u'phone'}}\n",
      "************************\n",
      "Pulling restaurant number 5000...\n",
      "Restaurant 5000 completed.\n",
      "************************\n",
      "Could not parse response.\n",
      "OrderedDict([('camis', '50037621'), ('dba', None), ('address', '4414 8TH AVE'), ('zipcode', '11220'), ('phone', '64688166301')])\n",
      "{u'error': {u'text': u'One or more parameters are invalid in request', u'id': u'INVALID_PARAMETER', u'field': u'phone'}}\n",
      "************************\n",
      "************************\n",
      "Could not parse response.\n",
      "OrderedDict([('camis', '50037669'), ('dba', 'NEW YUMMY TACO'), ('address', '1106 8TH AVE'), ('zipcode', '11215'), ('phone', '718832880')])\n",
      "{u'error': {u'text': u'One or more parameters are invalid in request', u'id': u'INVALID_PARAMETER', u'field': u'phone'}}\n",
      "************************\n",
      "************************\n",
      "Could not parse response.\n",
      "OrderedDict([('camis', '50037837'), ('dba', None), ('address', '5702 CLARENDON RD'), ('zipcode', '11203'), ('phone', '347893505')])\n",
      "{u'error': {u'text': u'One or more parameters are invalid in request', u'id': u'INVALID_PARAMETER', u'field': u'phone'}}\n",
      "************************\n",
      "Completion: 5230 restaurants pulled.\n"
     ]
    },
    {
     "data": {
      "text/plain": [
       "'35.196032 seconds.'"
      ]
     },
     "execution_count": 208,
     "metadata": {},
     "output_type": "execute_result"
    }
   ],
   "source": [
    "st = time.clock()\n",
    "start_record = 20000\n",
    "n = 10000\n",
    "trwlr.seek(start_record)\n",
    "output = trwlr.read_next_n(n)\n",
    "\n",
    "ft = time.clock()\n",
    "'{0} seconds.'.format(ft-st)"
   ]
  },
  {
   "cell_type": "code",
   "execution_count": 209,
   "metadata": {
    "collapsed": false
   },
   "outputs": [],
   "source": [
    "trwlr.close_conn()"
   ]
  },
  {
   "cell_type": "code",
   "execution_count": 210,
   "metadata": {
    "collapsed": false
   },
   "outputs": [],
   "source": [
    "def make_trwlr_output_pklable(output):\n",
    "    \n",
    "    def to_dicts_helper(result_tuple):\n",
    "        pulled_dict = result_tuple[1]\n",
    "        v = None\n",
    "        if pulled_dict['by_phone'] is not None:\n",
    "            v = pulled_dict['by_phone']._asdict()\n",
    "            \n",
    "        return (result_tuple[0]._asdict(), v)\n",
    "    \n",
    "    return map(to_dicts_helper, output)\n",
    "    "
   ]
  },
  {
   "cell_type": "code",
   "execution_count": 211,
   "metadata": {
    "collapsed": false
   },
   "outputs": [],
   "source": [
    "pklable_output = make_trwlr_output_pklable(output)\n",
    "with open('./{0}-{1}output.pkl'.format(start_record+1, start_record+n), 'wb') as f:\n",
    "    pkl.dump(pklable_output, f)"
   ]
  },
  {
   "cell_type": "code",
   "execution_count": 212,
   "metadata": {
    "collapsed": false,
    "scrolled": true
   },
   "outputs": [
    {
     "name": "stdout",
     "output_type": "stream",
     "text": [
      "Total restuarants processed: 5230\n",
      "Successfully paired: 2805\n"
     ]
    }
   ],
   "source": [
    "print \"Total restuarants processed: {0}\".format(len(output))\n",
    "print \"Successfully paired: {0}\".format(len(filter(lambda x: x[1]['by_phone'] is not None, output)))"
   ]
  },
  {
   "cell_type": "markdown",
   "metadata": {},
   "source": [
    "###Retry Failed Phone Pull by Address Search"
   ]
  },
  {
   "cell_type": "code",
   "execution_count": 213,
   "metadata": {
    "collapsed": false
   },
   "outputs": [],
   "source": [
    "successes = map(itemgetter(0), filter(lambda x: x[1]['by_phone'] is not None, output))\n",
    "failures = map(itemgetter(0), filter(lambda x: x[1]['by_phone'] is None, output))"
   ]
  },
  {
   "cell_type": "code",
   "execution_count": 214,
   "metadata": {
    "collapsed": false
   },
   "outputs": [
    {
     "name": "stdout",
     "output_type": "stream",
     "text": [
      "2805\n",
      "2425\n"
     ]
    }
   ],
   "source": [
    "print len(successes)\n",
    "print len(failures)"
   ]
  },
  {
   "cell_type": "code",
   "execution_count": 215,
   "metadata": {
    "collapsed": false,
    "scrolled": true
   },
   "outputs": [
    {
     "name": "stdout",
     "output_type": "stream",
     "text": [
      "['CAMDEN FOOD COMPANY',\n",
      " 'SUBWAY',\n",
      " 'LA PARADA II RESTAURANT',\n",
      " 'ALFREDO 100',\n",
      " 'NURNBERGER',\n",
      " 'BAR SAN MIGUEL',\n",
      " 'OAXACA TAQUERIA',\n",
      " 'ABDULLAH SWEETS AND RESTAURANT',\n",
      " \"DECATUR'S STEAKHOUSE\",\n",
      " 'EL SABROZON',\n",
      " \"Big E's Deli\",\n",
      " 'DIVINE BICKLES RESTAURANT.',\n",
      " 'PHILIPPE NYC I',\n",
      " '241ST CAFE RESTAURANT',\n",
      " 'MAISON KAYSER',\n",
      " 'THIRSTY BAR',\n",
      " 'BAR PRIMI',\n",
      " 'TINA  RESTAURANT',\n",
      " '624 KAM HAI CHINESE FOOD',\n",
      " 'Co Ba 53',\n",
      " 'KENNEDY FRIED CHICKEN',\n",
      " \"OLD STANLEY'S\",\n",
      " 'CASABLANCA BAR & GRILL',\n",
      " 'STAR MOUNTAIN COFFEE SHOP',\n",
      " 'MIN GOLDEN WOK',\n",
      " 'MANDELA RESTAURANT',\n",
      " 'NEW DRAGON',\n",
      " 'NEW DRAGON SEA CHINESE RESTAURANT',\n",
      " 'Dunkin Donuts',\n",
      " 'CROWN FRIED CHICKEN AND FISH',\n",
      " 'ELYNE RESTAURANT',\n",
      " 'MEMORIES BAR SHEVROJA',\n",
      " 'CAFE DE BROADWAY',\n",
      " 'EAT @ SHERMAN CREEK',\n",
      " 'MCDONALDS',\n",
      " 'KHAO KANG',\n",
      " 'NICEY NICE JAMAICAN RESTAURANT & LOUNGE',\n",
      " \"KARY'S LOUNGE\",\n",
      " 'PEKING OISHI',\n",
      " 'SUBWAY',\n",
      " 'TRIPLE 8 RESTAURANT',\n",
      " 'ASIAN KITCHEN',\n",
      " 'LE BAOBAB-GOUYGUI RESTAURANT',\n",
      " 'SUBWAY',\n",
      " 'SUBWAY',\n",
      " 'UNITED AIRLINES RED CARPET CLUB',\n",
      " 'JIMMY',\n",
      " 'AIG 31ST FLOOR CAFE',\n",
      " 'US KENNEDY FRIED CHICKEN AND PIZZA',\n",
      " 'MONTE LIMAR SPORT BAR LOUNGE']\n"
     ]
    }
   ],
   "source": [
    "pprint(map(lambda x: (x.dba), failures)[:50])"
   ]
  },
  {
   "cell_type": "code",
   "execution_count": 216,
   "metadata": {
    "collapsed": true
   },
   "outputs": [],
   "source": [
    "yelp_interfacer = yelp_api_interfacer(by_phone = False, by_addr_0 = True, by_addr_1= True)"
   ]
  },
  {
   "cell_type": "code",
   "execution_count": 217,
   "metadata": {
    "collapsed": false,
    "scrolled": false
   },
   "outputs": [
    {
     "name": "stdout",
     "output_type": "stream",
     "text": [
      "2425 Restaurants to pull.\n",
      "Pulling restaurant number 0...\n",
      "Restaurant 0 completed.\n",
      "Pulling restaurant number 250...\n",
      "Restaurant 250 completed.\n",
      "Pulling restaurant number 500...\n",
      "Restaurant 500 completed.\n",
      "Pulling restaurant number 750...\n",
      "Restaurant 750 completed.\n",
      "Pulling restaurant number 1000...\n",
      "Restaurant 1000 completed.\n",
      "Pulling restaurant number 1250...\n",
      "Restaurant 1250 completed.\n",
      "Pulling restaurant number 1500...\n",
      "Restaurant 1500 completed.\n",
      "Pulling restaurant number 1750...\n",
      "Restaurant 1750 completed.\n",
      "Pulling restaurant number 2000...\n",
      "Restaurant 2000 completed.\n",
      "Pulling restaurant number 2250...\n",
      "Restaurant 2250 completed.\n",
      "Completion: 2425 restaurants pulled.\n"
     ]
    }
   ],
   "source": [
    "output_v2 = yelp_interfacer.pull_restaurants(failures)"
   ]
  },
  {
   "cell_type": "code",
   "execution_count": 218,
   "metadata": {
    "collapsed": false
   },
   "outputs": [],
   "source": [
    "def find_match(result_tuple):\n",
    "    \n",
    "    r = re.compile('\\s+')\n",
    "    \n",
    "    record = result_tuple[0]\n",
    "    address = record.address\n",
    "    split_address = map(lambda a: a.strip(), address.split(' '))\n",
    "    yelp_records = result_tuple[1]\n",
    "    \n",
    "    for k, yelp_record in yelp_records.items(): \n",
    "        \n",
    "        if yelp_record is not None and yelp_record.address is not None:\n",
    "            \n",
    "            yel_addr = r.sub(' ', yelp_record.address).strip()\n",
    "            split_yelp_addr = map(lambda a: a.strip(), yel_addr.split(' '))\n",
    "            if len(split_yelp_addr) > 1 and len(split_address) > 1:\n",
    "                if split_address[0] == split_yelp_addr[0] and \\\n",
    "                split_address[1].lower()[0] == split_yelp_addr[1].lower()[0]:\n",
    "                    \n",
    "                    return (record, yelp_record)\n",
    "\n",
    "    return None"
   ]
  },
  {
   "cell_type": "code",
   "execution_count": 219,
   "metadata": {
    "collapsed": false,
    "scrolled": true
   },
   "outputs": [],
   "source": [
    "found = filter(None, map(find_match, output_v2))"
   ]
  },
  {
   "cell_type": "code",
   "execution_count": 220,
   "metadata": {
    "collapsed": true
   },
   "outputs": [],
   "source": [
    "pklable_found_p1 = map(lambda x: (x[0]._asdict(), x[1]._asdict()), found)\n",
    "with open('./{0}-{1}found_second_pass.pkl'.format(start_record+1, start_record + n), 'wb') as f:\n",
    "    pkl.dump(pklable_found_p1, f)"
   ]
  },
  {
   "cell_type": "code",
   "execution_count": 221,
   "metadata": {
    "collapsed": false,
    "scrolled": true
   },
   "outputs": [
    {
     "data": {
      "text/plain": [
       "[(None, 143),\n",
       " ('SUBWAY', 60),\n",
       " ('DUNKIN DONUTS', 28),\n",
       " ('KENNEDY FRIED CHICKEN', 19),\n",
       " ('CROWN FRIED CHICKEN', 14),\n",
       " ('FIKA', 9),\n",
       " ('JUST SALAD', 9),\n",
       " (\"MCDONALD'S\", 7),\n",
       " ('Dunkin Donuts', 6),\n",
       " ('CHECKERS', 6),\n",
       " ('STARBUCKS COFFEE', 6),\n",
       " ('SUBWAY RESTAURANT', 4),\n",
       " ('CAFFE BENE', 4),\n",
       " ('Subway', 4),\n",
       " ('BURGER KING', 3),\n",
       " ('MCDONALDS', 3),\n",
       " ('HEALTHY BITE', 3),\n",
       " ('STARBUCKS', 3),\n",
       " ('KENNEDY FRIED CHICKEN & PIZZA', 3),\n",
       " (\"WENDY'S\", 3),\n",
       " ('JUICE GENERATION', 3),\n",
       " ('Kennedy Fried Chicken', 3),\n",
       " ('LITTLE CAESARS', 3),\n",
       " ('CRUMBS BAKE SHOP', 3),\n",
       " ('AMPLE HILLS CREAMERY', 2),\n",
       " ('EMPANADAS MONUMENTAL', 2),\n",
       " (\"MIGHTY QUINN'S BBQ\", 2),\n",
       " ('WALDORF ASTORIA NYC', 2),\n",
       " ('15 FLAVORS', 2),\n",
       " ('MANGO MANGO', 2)]"
      ]
     },
     "execution_count": 221,
     "metadata": {},
     "output_type": "execute_result"
    }
   ],
   "source": [
    "c = Counter(map(lambda x: (x.dba), failures))\n",
    "c.most_common(30)"
   ]
  },
  {
   "cell_type": "code",
   "execution_count": 222,
   "metadata": {
    "collapsed": false,
    "scrolled": true
   },
   "outputs": [
    {
     "data": {
      "text/plain": [
       "[('SUBWAY', 13),\n",
       " ('JUST SALAD', 8),\n",
       " ('FIKA', 8),\n",
       " ('DUNKIN DONUTS', 8),\n",
       " (None, 6),\n",
       " (\"MCDONALD'S\", 4),\n",
       " ('CROWN FRIED CHICKEN', 3),\n",
       " (\"WENDY'S\", 3),\n",
       " ('CAFFE BENE', 3),\n",
       " ('MCDONALDS', 3),\n",
       " ('SUBWAY RESTAURANT', 3),\n",
       " ('CRUMBS BAKE SHOP', 3),\n",
       " ('WALDORF ASTORIA NYC', 2),\n",
       " ('FILICORI ZECCHINI', 2),\n",
       " ('RED MANGO', 2),\n",
       " ('GONG CHA', 2),\n",
       " (\"MIGHTY QUINN'S BBQ\", 2),\n",
       " ('VIVE LA CREPE', 2),\n",
       " ('MADMAN ESPRESSO', 2),\n",
       " ('SHAKE SHACK', 2),\n",
       " ('CHECKERS', 2),\n",
       " ('FORT GRACE', 2),\n",
       " ('THE JUICE SHOP', 2),\n",
       " ('EQUINOX', 2),\n",
       " ('STARBUCKS COFFEE', 2),\n",
       " ('BRAVO AFRICAN RESTAURANT', 1),\n",
       " ('C. LO CAFE', 1),\n",
       " (\"OLD STANLEY'S\", 1),\n",
       " ('GRAND ST PIZZA', 1),\n",
       " ('vapor lounge', 1)]"
      ]
     },
     "execution_count": 222,
     "metadata": {},
     "output_type": "execute_result"
    }
   ],
   "source": [
    "c_retry = Counter(map(lambda x: x[0].dba, found))\n",
    "c_retry.most_common(30)"
   ]
  },
  {
   "cell_type": "code",
   "execution_count": 223,
   "metadata": {
    "collapsed": true
   },
   "outputs": [],
   "source": [
    "c.subtract(c_retry)"
   ]
  },
  {
   "cell_type": "code",
   "execution_count": 224,
   "metadata": {
    "collapsed": false,
    "scrolled": false
   },
   "outputs": [
    {
     "data": {
      "text/plain": [
       "[(None, 137),\n",
       " ('SUBWAY', 47),\n",
       " ('DUNKIN DONUTS', 20),\n",
       " ('KENNEDY FRIED CHICKEN', 18),\n",
       " ('CROWN FRIED CHICKEN', 11),\n",
       " ('Dunkin Donuts', 6),\n",
       " ('CHECKERS', 4),\n",
       " ('STARBUCKS COFFEE', 4),\n",
       " ('BURGER KING', 3),\n",
       " ('HEALTHY BITE', 3),\n",
       " ('KENNEDY FRIED CHICKEN & PIZZA', 3),\n",
       " (\"MCDONALD'S\", 3),\n",
       " ('Kennedy Fried Chicken', 3),\n",
       " ('Subway', 3),\n",
       " ('EMPANADAS MONUMENTAL', 2),\n",
       " ('PEKING OISHI', 2),\n",
       " ('MAPLE', 2),\n",
       " ('LUCKY STAR KITCHEN', 2),\n",
       " ('STARBUCKS', 2),\n",
       " ('THINK COFFEE', 2),\n",
       " ('CROWN FRIED CHICKEN & PIZZA', 2),\n",
       " ('VIDA SALUDABLE', 2),\n",
       " ('POPEYES', 2),\n",
       " ('VILLA ITALIAN KITCHEN', 2),\n",
       " ('TACOS NEZA', 2),\n",
       " ('JUICE GENERATION', 2),\n",
       " ('SIPS & BITES', 2),\n",
       " ('BROADWAY BAKERY', 2),\n",
       " ('GOOD TASTE', 2),\n",
       " ('RESTAURANT ASSOCIATES LLC', 2)]"
      ]
     },
     "execution_count": 224,
     "metadata": {},
     "output_type": "execute_result"
    }
   ],
   "source": [
    "c.most_common(30)"
   ]
  },
  {
   "cell_type": "markdown",
   "metadata": {},
   "source": [
    "#--------------------------------------------------------------------------------------------"
   ]
  },
  {
   "cell_type": "markdown",
   "metadata": {},
   "source": [
    "## Build Restaurants Tables"
   ]
  },
  {
   "cell_type": "code",
   "execution_count": 225,
   "metadata": {
    "collapsed": false
   },
   "outputs": [],
   "source": [
    "# TODO make more systematic\n",
    "output_p1_paths = ['./1-10000output.pkl', './10001-20000output.pkl', './20001-30000output.pkl']\n",
    "output_p2_paths = ['./1-10000found_second_pass.pkl', './10001-20000found_second_pass.pkl', './20001-30000found_second_pass.pkl']\n",
    "\n",
    "outputs_p1 = []\n",
    "outputs_p2 = []\n",
    "for path in output_p1_paths:\n",
    "    with open(path, 'rb') as f:\n",
    "        outputs_p1.extend(pkl.load(f))\n",
    "        \n",
    "for path in output_p2_paths:\n",
    "    with open(path, 'rb') as f:\n",
    "        outputs_p2.extend(pkl.load(f))\n",
    "        "
   ]
  },
  {
   "cell_type": "code",
   "execution_count": 226,
   "metadata": {
    "collapsed": false
   },
   "outputs": [
    {
     "name": "stdout",
     "output_type": "stream",
     "text": [
      "20217\n"
     ]
    }
   ],
   "source": [
    "all_successes = []\n",
    "all_successes.extend(filter(lambda x: x[1] is not None, outputs_p1))\n",
    "all_successes.extend(outputs_p2)\n",
    "print len(all_successes)"
   ]
  },
  {
   "cell_type": "code",
   "execution_count": 228,
   "metadata": {
    "collapsed": false
   },
   "outputs": [
    {
     "name": "stdout",
     "output_type": "stream",
     "text": [
      "[('50018608', 1), ('50001460', 1), ('41543725', 1), ('41543722', 1), ('50006252', 1)]\n"
     ]
    }
   ],
   "source": [
    "c = Counter(map(lambda x: x[0].get('camis'), all_successes))\n",
    "print c.most_common(5)\n",
    "# No duplicates? :-)"
   ]
  },
  {
   "cell_type": "code",
   "execution_count": null,
   "metadata": {
    "collapsed": true
   },
   "outputs": [],
   "source": [
    "# restaurants\n",
    "## (yelp_id, camis, yelp_name, address, zipcode)\n",
    "# neighborhoods\n",
    "## (yelp_id, neighborhood)\n",
    "# categories\n",
    "## (yeld_id, category)"
   ]
  },
  {
   "cell_type": "markdown",
   "metadata": {},
   "source": [
    "## TableBuilder Superclass"
   ]
  },
  {
   "cell_type": "code",
   "execution_count": 235,
   "metadata": {
    "collapsed": true
   },
   "outputs": [],
   "source": [
    "class TableBuilder:\n",
    "    \n",
    "    def __init__(self):\n",
    "\n",
    "        self.conn = None\n",
    "        self.c = None\n",
    "    \n",
    "    \n",
    "    def _open_conn(self):\n",
    "        \n",
    "        self.conn = psycopg2.connect(\"dbname=yelp\", cursor_factory=psycopg2.extras.NamedTupleCursor)\n",
    "        self.c = self.conn.cursor()\n",
    "\n",
    "        \n",
    "    def _close_conn(self):\n",
    "        \n",
    "        if self.conn is not None:\n",
    "            self.conn.close()\n",
    "        self.conn = None\n",
    "        \n",
    "        \n",
    "    def build_table(self, matched_records = None):\n",
    "        \n",
    "        try:\n",
    "            self._open_conn()\n",
    "            self._create_table()\n",
    "            if matched_records is not None:\n",
    "                self._add_records(matched_records)\n",
    "        \n",
    "        finally:\n",
    "            self._close_conn()\n",
    "    \n",
    "    \n",
    "    def add_records(self, matched_records):\n",
    "        \n",
    "        try:\n",
    "            self._open_conn()\n",
    "            self._add_records(matched_records)\n",
    "        \n",
    "        finally:\n",
    "            self._close_conn()\n",
    "    \n",
    "    def _psql_safe_string_format(self, text):\n",
    "        \n",
    "        text = text.replace(\"'\", \"''\") if text is not None else 'NULL'\n",
    "        text = unicode(text)\n",
    "        return text\n",
    "        \n",
    "        return \n",
    "    \n",
    "    def _create_table(self):\n",
    "        raise NotImplementedError\n",
    "        \n",
    "    def _add_records(self, matched_records):\n",
    "        raise NotImplementedError       \n",
    "        "
   ]
  },
  {
   "cell_type": "markdown",
   "metadata": {},
   "source": [
    "## Restaurants Table"
   ]
  },
  {
   "cell_type": "code",
   "execution_count": 242,
   "metadata": {
    "collapsed": false
   },
   "outputs": [],
   "source": [
    "class RestaurantsTableBuilder(TableBuilder):\n",
    "    \n",
    "    def __init__(self):\n",
    "        TableBuilder.__init__(self)\n",
    "    \n",
    "    def _create_table(self):\n",
    "        \n",
    "        # restaurants\n",
    "        ## (yelp_id, camis, yelp_name, yelp_address, zipcode)\n",
    "        self.c.execute(\"DROP TABLE IF EXISTS restaurants\")\n",
    "        q = '''\n",
    "        CREATE TABLE restaurants (\n",
    "        camis varchar(8),\n",
    "        yelp_id varchar(80),\n",
    "        yelp_name varchar(70),\n",
    "        yelp_address varchar(60),\n",
    "        zipcode varchar(5)\n",
    "        )\n",
    "        '''\n",
    "        self.c.execute(q)\n",
    "        self.conn.commit()\n",
    "        \n",
    "    def _add_records(self, matched_records):\n",
    "        \n",
    "        \n",
    "        q_template = u'''INSERT INTO restaurants \n",
    "        (camis, yelp_id, yelp_name, yelp_address, zipcode)\n",
    "        VALUES (\n",
    "        {camis},\n",
    "        '{yelp_id}',\n",
    "        '{yelp_name}',\n",
    "        '{yelp_address}',\n",
    "        {zipcode}\n",
    "        );\n",
    "        '''\n",
    "               \n",
    "        for record in matched_records:\n",
    "            input_dict = self._extract_record_to_input_dict(record)\n",
    "            q = q_template.format(**input_dict)\n",
    "\n",
    "            self.c.execute(q)\n",
    "            self.conn.commit()\n",
    "            \n",
    "    def _extract_record_to_input_dict(self, record):  \n",
    "        \n",
    "        extract = {}\n",
    "\n",
    "        extract['camis'] = record[0].get('camis')\n",
    "        extract['yelp_id'] = unicode(record[1].get('biz_id'))\n",
    "        \n",
    "        name = self._psql_safe_string_format(record[1].get('name'))\n",
    "        addr = self._psql_safe_string_format(record[1].get('address'))\n",
    "        \n",
    "        extract['yelp_name'] = name\n",
    "        extract['yelp_address'] = addr\n",
    "        \n",
    "        zipcode = record[0].get('zipcode')\n",
    "        zipcode = zipcode if re.match('\\d{5}', zipcode) else 'NULL'\n",
    "        extract['zipcode'] = zipcode\n",
    "        \n",
    "        # TODO add *yelp*_phone, yelp_zip\n",
    "        \n",
    "        return extract  \n"
   ]
  },
  {
   "cell_type": "code",
   "execution_count": 243,
   "metadata": {
    "collapsed": false
   },
   "outputs": [],
   "source": [
    "rtb = RestaurantsTableBuilder()\n",
    "rtb.build_table()\n",
    "rtb.add_records(all_successes)"
   ]
  },
  {
   "cell_type": "markdown",
   "metadata": {},
   "source": [
    "## Categories Table"
   ]
  },
  {
   "cell_type": "code",
   "execution_count": 244,
   "metadata": {
    "collapsed": false
   },
   "outputs": [],
   "source": [
    "class CategoriesTableBuilder(TableBuilder):\n",
    "\n",
    "    def __init__(self):\n",
    "        TableBuilder.__init__(self)\n",
    "    \n",
    "    def _create_table(self):\n",
    "        \n",
    "        # categories\n",
    "        ## (yeld_id, yelp_category)\n",
    "        self.c.execute(\"DROP TABLE IF EXISTS categories\")\n",
    "        q = '''\n",
    "        CREATE TABLE categories (\n",
    "        yelp_id varchar(80),\n",
    "        yelp_category varchar(35)\n",
    "        )\n",
    "        '''\n",
    "        self.c.execute(q)\n",
    "        self.conn.commit()\n",
    "        \n",
    "    def _add_records(self, matched_records):\n",
    "        \n",
    "        q_template = u'''INSERT INTO categories \n",
    "        (yelp_id, yelp_category)\n",
    "        VALUES (\n",
    "        '{yelp_id}',\n",
    "        '{yelp_category}'\n",
    "        );\n",
    "        '''\n",
    "        \n",
    "        for record in matched_records:\n",
    "            \n",
    "            input_dicts = self._extract_record_to_input_dicts(record)\n",
    "            for d in input_dicts:\n",
    "                q = q_template.format(**d)\n",
    "                self.c.execute(q)\n",
    "\n",
    "        self.conn.commit()\n",
    "            \n",
    "    def _extract_record_to_input_dicts(self, record):  \n",
    "        \n",
    "        extracts = []\n",
    "        yelp_id = self._psql_safe_string_format(record[1].get('biz_id'))\n",
    "        for category in record[1].get('categories'):\n",
    "            \n",
    "            extract = {}\n",
    "            extract['yelp_id'] = yelp_id\n",
    "            extract['yelp_category'] = self._psql_safe_string_format(category)\n",
    "            \n",
    "            extracts.append(extract)\n",
    "        \n",
    "        return extracts\n"
   ]
  },
  {
   "cell_type": "code",
   "execution_count": 245,
   "metadata": {
    "collapsed": true
   },
   "outputs": [],
   "source": [
    "ctb = CategoriesTableBuilder()\n",
    "ctb.build_table()\n",
    "ctb.add_records(all_successes)"
   ]
  },
  {
   "cell_type": "markdown",
   "metadata": {},
   "source": [
    "##Neighborhoods Table"
   ]
  },
  {
   "cell_type": "code",
   "execution_count": 246,
   "metadata": {
    "collapsed": false
   },
   "outputs": [],
   "source": [
    "class NeighborhoodsTableBuilder(TableBuilder):\n",
    "\n",
    "    def __init__(self):\n",
    "        TableBuilder.__init__(self)\n",
    "    \n",
    "    def _create_table(self):\n",
    "        \n",
    "        # neighborhoods\n",
    "        ## (yelp_id, neighborhood)\n",
    "        self.c.execute(\"DROP TABLE IF EXISTS neighborhoods\")\n",
    "        q = '''\n",
    "        CREATE TABLE neighborhoods (\n",
    "        yelp_id varchar(80),\n",
    "        yelp_neighborhood varchar(40)\n",
    "        )\n",
    "        '''\n",
    "        self.c.execute(q)\n",
    "        self.conn.commit()\n",
    "        \n",
    "    def _add_records(self, matched_records):\n",
    "        \n",
    "        q_template = u'''INSERT INTO neighborhoods \n",
    "        (yelp_id, yelp_neighborhood)\n",
    "        VALUES (\n",
    "        '{yelp_id}',\n",
    "        '{yelp_neighborhood}'\n",
    "        );\n",
    "        '''\n",
    "        \n",
    "        for record in matched_records:\n",
    "            \n",
    "            input_dicts = self._extract_record_to_input_dicts(record)\n",
    "            for d in input_dicts:\n",
    "                q = q_template.format(**d)\n",
    "                self.c.execute(q)\n",
    "\n",
    "        self.conn.commit()\n",
    "            \n",
    "    def _extract_record_to_input_dicts(self, record):  \n",
    "        \n",
    "        extracts = []\n",
    "        yelp_id = self._psql_safe_string_format(record[1].get('biz_id'))\n",
    "        \n",
    "        # SHOULD BE ABLE TO REMOVE 'IS NONE' CONDITION' AFTER REPULL FROM YELP\n",
    "        neighborhoods = record[1].get('neighborhoods') if record[1].get('neighborhoods') is not None else []\n",
    "        ####\n",
    "        for neighborhood in neighborhoods:\n",
    "            \n",
    "            extract = {}\n",
    "            extract['yelp_id'] = yelp_id\n",
    "            extract['yelp_neighborhood'] = self._psql_safe_string_format(neighborhood)\n",
    "            \n",
    "            extracts.append(extract)\n",
    "        \n",
    "        return extracts\n"
   ]
  },
  {
   "cell_type": "code",
   "execution_count": 247,
   "metadata": {
    "collapsed": false
   },
   "outputs": [],
   "source": [
    "ntb = NeighborhoodsTableBuilder()\n",
    "ntb.build_table()\n",
    "ntb.add_records(all_successes)"
   ]
  }
 ],
 "metadata": {
  "kernelspec": {
   "display_name": "Python 2",
   "language": "python",
   "name": "python2"
  },
  "language_info": {
   "codemirror_mode": {
    "name": "ipython",
    "version": 2
   },
   "file_extension": ".py",
   "mimetype": "text/x-python",
   "name": "python",
   "nbconvert_exporter": "python",
   "pygments_lexer": "ipython2",
   "version": "2.7.6"
  }
 },
 "nbformat": 4,
 "nbformat_minor": 0
}
