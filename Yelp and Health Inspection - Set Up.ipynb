{
 "cells": [
  {
   "cell_type": "code",
   "execution_count": 119,
   "metadata": {
    "collapsed": true
   },
   "outputs": [],
   "source": [
    "import psycopg2\n",
    "import requests\n",
    "from bs4 import BeautifulSoup\n",
    "import csv\n",
    "import re\n",
    "import time"
   ]
  },
  {
   "cell_type": "markdown",
   "metadata": {},
   "source": [
    "## Set Up Inpection Database"
   ]
  },
  {
   "cell_type": "code",
   "execution_count": 18,
   "metadata": {
    "collapsed": true
   },
   "outputs": [],
   "source": [
    "json_url = 'https://data.cityofnewyork.us/api/views/xx67-kt59/rows.json?accessType=DOWNLOAD'\n",
    "csv_url = 'https://data.cityofnewyork.us/api/views/xx67-kt59/rows.csv?accessType=DOWNLOAD'"
   ]
  },
  {
   "cell_type": "code",
   "execution_count": 19,
   "metadata": {
    "collapsed": false
   },
   "outputs": [
    {
     "name": "stdout",
     "output_type": "stream",
     "text": [
      "https://data.cityofnewyork.us/api/views/xx67-kt59/rows.csv?accessType=DOWNLOAD\n"
     ]
    }
   ],
   "source": [
    "print csv_url"
   ]
  },
  {
   "cell_type": "code",
   "execution_count": 5,
   "metadata": {
    "collapsed": false
   },
   "outputs": [
    {
     "name": "stderr",
     "output_type": "stream",
     "text": [
      "/usr/local/lib/python2.7/dist-packages/requests/packages/urllib3/util/ssl_.py:90: InsecurePlatformWarning: A true SSLContext object is not available. This prevents urllib3 from configuring SSL appropriately and may cause certain SSL connections to fail. For more information, see https://urllib3.readthedocs.org/en/latest/security.html#insecureplatformwarning.\n",
      "  InsecurePlatformWarning\n"
     ]
    },
    {
     "data": {
      "text/plain": [
       "188832637"
      ]
     },
     "execution_count": 5,
     "metadata": {},
     "output_type": "execute_result"
    }
   ],
   "source": [
    "r = requests.get(csv_url)\n",
    "len(r.content)"
   ]
  },
  {
   "cell_type": "code",
   "execution_count": 6,
   "metadata": {
    "collapsed": true
   },
   "outputs": [],
   "source": [
    "with open('raw_inspection_data.csv', 'w') as f:\n",
    "    f.write(r.content)"
   ]
  },
  {
   "cell_type": "code",
   "execution_count": 172,
   "metadata": {
    "collapsed": false
   },
   "outputs": [],
   "source": [
    "class inspection_entry():\n",
    "    \n",
    "    ## TODO data structure to build violation code table\n",
    "    \n",
    "    no_filter = ['CAMIS',\n",
    "     'ZIPCODE',\n",
    "     'INSPECTION DATE',\n",
    "     'ACTION',\n",
    "     'VIOLATION CODE',\n",
    "     'GRADE',\n",
    "     'SCORE',\n",
    "     'GRADE DATE',\n",
    "     'RECORD DATE',\n",
    "     'INSPECTION TYPE']\n",
    "    \n",
    "    action_map = {'No violations were recorded at the time of this inspection.':'No violations cited.',\n",
    "     'Violations were cited in the following area(s).':'Violations cited',\n",
    "     'Establishment Closed by DOHMH.  Violations were cited in the following area(s) and those requiring immediate action were addressed.':'Establishment Closed by DOHMH'}\n",
    "    \n",
    "    def __init__(self, entry_dict, null_val = 'NULL'):\n",
    "        self.null = null_val\n",
    "        self.values = self._process(entry_dict)\n",
    "    \n",
    "    def _encode_clean(self, raw_str):\n",
    "        return raw_str.replace('Â', '')\n",
    "    \n",
    "    def _action_process(self, action):\n",
    "        \n",
    "        if not action:\n",
    "            return self.null\n",
    "        else:\n",
    "            return inspection_entry.action_map.get(action,action)\n",
    "    \n",
    "    def _crit_process(self, crit_val):\n",
    "        \n",
    "        if not crit_val:\n",
    "            return self.null\n",
    "        elif crit_val == 'Critical':\n",
    "            return 1\n",
    "        else:\n",
    "            return 0\n",
    "        \n",
    "    def _addr_process(self, building, street):\n",
    "        \n",
    "        r = re.compile('\\s+')\n",
    "        addr = ' '.join((building, street))\n",
    "        return r.sub(' ', addr)\n",
    "        \n",
    "    def _i_date_process(self, i_date):\n",
    "    \n",
    "        return i_date if i_date != '01/01/1900' else self.null\n",
    "    \n",
    "    def _process(self, entry_dict):\n",
    "             \n",
    "        na_fill = lambda v: v if v else self.null\n",
    "        \n",
    "        values = {}\n",
    "        for field in inspection_entry.no_filter:\n",
    "            values[field.replace(' ', '_')] = na_fill(entry_dict.get(field))\n",
    "        \n",
    "        values['DBA'] = self._encode_clean(entry_dict.get('DBA'))\n",
    "        values['ADDRESS'] = self._addr_process(entry_dict.get('BUILDING'), entry_dict.get('STREET'))\n",
    "        values['CRITIAL FLAG'.replace(' ', '_')] = self._crit_process(entry_dict.get('CRITICAL FLAG'))\n",
    "        values['INSPECTION DATE'.replace(' ', '_')] = self._i_date_process(entry_dict.get('INSPECTION DATE'))\n",
    "        values['ACTION'] = self._action_process(entry_dict.get('ACTION'))\n",
    "\n",
    "        return values"
   ]
  },
  {
   "cell_type": "code",
   "execution_count": 173,
   "metadata": {
    "collapsed": false
   },
   "outputs": [
    {
     "name": "stdout",
     "output_type": "stream",
     "text": [
      "16.880887\n"
     ]
    }
   ],
   "source": [
    "st = time.clock()\n",
    "with open('./raw_inspection_data.csv', 'rt') as f:\n",
    "    dialect = csv.Sniffer().sniff(f.read(1024))\n",
    "    f.seek(0)\n",
    "    reader = csv.reader(f, dialect)\n",
    "    header = reader.next()\n",
    "    \n",
    "    entries = []\n",
    "    for row in reader:\n",
    "        entry_dict =  dict(zip(header, row))\n",
    "        entries.append(inspection_entry(entry_dict))\n",
    "et = time.clock()\n",
    "print et - st"
   ]
  },
  {
   "cell_type": "code",
   "execution_count": 177,
   "metadata": {
    "collapsed": false
   },
   "outputs": [
    {
     "data": {
      "text/plain": [
       "['VIOLATION_CODE',\n",
       " 'GRADE',\n",
       " 'INSPECTION_TYPE',\n",
       " 'CRITIAL_FLAG',\n",
       " 'ZIPCODE',\n",
       " 'DBA',\n",
       " 'SCORE',\n",
       " 'CAMIS',\n",
       " 'GRADE_DATE',\n",
       " 'ADDRESS',\n",
       " 'ACTION',\n",
       " 'INSPECTION_DATE',\n",
       " 'RECORD_DATE']"
      ]
     },
     "execution_count": 177,
     "metadata": {},
     "output_type": "execute_result"
    }
   ],
   "source": [
    "entries[0].values.keys()"
   ]
  },
  {
   "cell_type": "code",
   "execution_count": 188,
   "metadata": {
    "collapsed": false
   },
   "outputs": [
    {
     "name": "stdout",
     "output_type": "stream",
     "text": [
      "5.632950 seconds\n"
     ]
    }
   ],
   "source": [
    "st = time.clock()\n",
    "fieldnames = ['CAMIS',\n",
    "            'DBA',\n",
    "            'ADDRESS',\n",
    "            'ZIPCODE',\n",
    "            'INSPECTION_TYPE',\n",
    "            'INSPECTION_DATE',\n",
    "            'ACTION',\n",
    "            'SCORE',\n",
    "            'GRADE',\n",
    "            'GRADE_DATE',\n",
    "            'VIOLATION_CODE',\n",
    "            'CRITIAL_FLAG',\n",
    "            'RECORD_DATE']\n",
    "\n",
    "csv.register_dialect('pipes', delimiter='|', quotechar = '\"', quoting = csv.QUOTE_MINIMAL)\n",
    "with open('cleaned_inspection_data.csv', 'wt') as f:\n",
    "    writer = csv.DictWriter(f, fieldnames, dialect='pipes')\n",
    "    writer.writeheader()\n",
    "    for entry in entries:\n",
    "        writer.writerow(entry.values)\n",
    "        \n",
    "ft = time.clock()\n",
    "print \"{0:f} seconds\".format(ft-st)"
   ]
  },
  {
   "cell_type": "code",
   "execution_count": 189,
   "metadata": {
    "collapsed": false
   },
   "outputs": [
    {
     "name": "stdout",
     "output_type": "stream",
     "text": [
      "CAMIS|DBA|ADDRESS|ZIPCODE|INSPECTION_TYPE|INSPECTION_DATE|ACTION|SCORE|GRADE|GRADE_DATE|VIOLATION_CODE|CRITIAL_FLAG|RECORD_DATE\r",
      "\r\n",
      "30075445|MORRIS PARK BAKE SHOP|1007 MORRIS PARK AVE|10462|Cycle Inspection / Initial Inspection|02/09/2015|Violations cited|6|A|02/09/2015|06C|1|06/24/2015\r",
      "\r\n",
      "30075445|MORRIS PARK BAKE SHOP|1007 MORRIS PARK AVE|10462|Cycle Inspection / Initial Inspection|03/03/2014|Violations cited|2|A|03/03/2014|10F|0|06/24/2015\r",
      "\r\n",
      "30075445|MORRIS PARK BAKE SHOP|1007 MORRIS PARK AVE|10462|Trans Fat / Second Compliance Inspection|10/10/2013|No violations cited.|NULL|NULL|NULL|NULL|0|06/24/2015\r",
      "\r\n",
      "30075445|MORRIS PARK BAKE SHOP|1007 MORRIS PARK AVE|10462|Cycle Inspection / Re-inspection|09/11/2013|Violations cited|6|A|09/11/2013|04L|1|06/24/2015\r",
      "\r\n",
      "30075445|MORRIS PARK BAKE SHOP|1007 MORRIS PARK AVE|10462|Cycle Inspection / Re-inspection|09/11/2013|Violations cited|6|A|09/11/2013|04N|1|06/24/2015\r",
      "\r\n",
      "30075445|MORRIS PARK BAKE SHOP|1007 MORRIS PARK AVE|10462|Cycle Inspection / Initial Inspection|08/14/2013|Violations cited|32|NULL|NULL|04C|1|06/24/2015\r",
      "\r\n",
      "30075445|MORRIS PARK BAKE SHOP|1007 MORRIS PARK AVE|10462|Cycle Inspection / Initial Inspection|08/14/2013|Violations cited|32|NULL|NULL|04L|1|06/24/2015\r",
      "\r\n",
      "30075445|MORRIS PARK BAKE SHOP|1007 MORRIS PARK AVE|10462|Cycle Inspection / Initial Inspection|08/14/2013|Violations cited|32|NULL|NULL|06A|1|06/24/2015\r",
      "\r\n",
      "30075445|MORRIS PARK BAKE SHOP|1007 MORRIS PARK AVE|10462|Cycle Inspection / Initial Inspection|08/14/2013|Violations cited|32|NULL|NULL|06C|1|06/24/2015\r",
      "\r\n"
     ]
    }
   ],
   "source": [
    "!head ./cleaned_inspection_data.csv"
   ]
  },
  {
   "cell_type": "code",
   "execution_count": 186,
   "metadata": {
    "collapsed": false
   },
   "outputs": [
    {
     "name": "stdout",
     "output_type": "stream",
     "text": [
      "0\n"
     ]
    }
   ],
   "source": [
    "r = re.compile('\"')\n",
    "unusuals = set()\n",
    "for e in entries:\n",
    "    if r.match(e.values.get('DBA')):\n",
    "        unusuals.add(e.values.get('DBA'))\n",
    "print len(unusuals)\n",
    "for u in unusuals:\n",
    "    print u"
   ]
  },
  {
   "cell_type": "code",
   "execution_count": 179,
   "metadata": {
    "collapsed": false
   },
   "outputs": [
    {
     "name": "stdout",
     "output_type": "stream",
     "text": [
      "130\n",
      "DUNKIN' DONUTS, BASKIN ROBBINS\n",
      "Long Wong Bakery II, Inc.\n",
      "DUNKIN' DONUTS, BASKIN ROBBINS\n",
      "BURGER KING, POPEYE'S CHICKEN & BISCUITS\n",
      "DUNKIN' DONUTS, BASKIN ROBBINS\n",
      "CHIC-FIL-A, QUIZNOS SUBS, JW'S, TOSSED\n",
      "Tim Hortons, Soup Man, Tasti D. Lite\n",
      "LI & LIN'S CHINA DRAGON, INC.\n",
      "DUNKIN' DONUTS, BASKIN ROBBINS, SUBWAY\n",
      "SOUPS,SALADS & BEYOND\n",
      "SUBWAY, CARVEL ICE CREAM\n",
      "NINE_D THAI\n",
      "FLOYD, NY\n",
      "BURGER KING, POPEYE'S\n",
      "DUNKIN' DONUTS, BASKIN ROBBINS\n",
      "1,001 NIGHTS\n",
      "THE CANAL PARK PLAYHOUSE, INC\n",
      "DUNKIN' DONUTS, BASKIN ROBBINS\n",
      "DUNKIN' DONUTS, BASKIN ROBBINS\n",
      "NORMA'S, BURGER JOINT\n",
      "SUGAR HILL RESTAURANT, SUPPER CLUB AND DISCO\n",
      "SKADDEN ARPS, SLATE\n",
      "DUNKIN' DONUTS, BASKIN ROBBINS\n",
      "CHINA MIA EXOTIC ASIAN FOOD, YOGURT & JUICE BAR\n",
      "DUNKIN' DONUTS, BASKIN ROBBINS\n",
      "HAMPTON CHUTNEY, CO.\n",
      "DUNKIN' DONUTS, BASKIN ROBBINS\n",
      "DUNKIN' DONUTS, BASKIN ROBBINS\n",
      "DUNKIN' DONUTS, BASKIN ROBBINS\n",
      "LENNY'S HANOVER, LLC\n",
      "ROSE PIZZA, CHARLIE SUB GRILL, MOE'S SOUTHWEST GRILL\n",
      "SUBWAY, CARVEL ICE CREAM\n",
      "DADDY,S PIZZA & PASTA\n",
      "Le Bernardin Privé\n",
      "CALLAPIZZA USA, LLC\n",
      "DUNKIN' DONUTS, BASKIN ROBBINS\n",
      "DUNKIN' DONUTS, BASKIN ROBBINS\n",
      "DUNKIN' DONUTS, BASKIN ROBBINS\n",
      "DUNKIN' DONUTS, BASKIN ROBBINS\n",
      "DUNKIN' DONUTS, BASKIN ROBBINS\n",
      "DUNKIN DONUTS, BASKIN ROBBINS\n",
      "LORNA J, SMITH\n",
      "DUNKIN' DONUTS, BASKIN ROBBINS\n",
      "BISOUS, CIAO\n",
      "DUNKIN' DONUTS, BASKIN ROBBINS\n",
      "DUNKIN' DONUTS, BASKIN ROBBINS\n",
      "DUNKIN' DONUTS, BASKIN ROBBINS\n",
      "DUNKIN DONUTS, BASKIN ROBBINS\n",
      "GUATEMEX RESTAURANT, INC.\n",
      "DUNKIN' DONUTS, PIZZA HUT, TACO BELL\n",
      "DUNKIN' DONUTS, BASKIN ROBBINS\n",
      "99¢ HOT PIZZA\n",
      "DUNKIN' DONUTS, BASKIN ROBBINS\n",
      "DUNKIN' DONUTS, BASKIN ROBBINS\n",
      "NIGHT°\n",
      "Buffalo Wild Wings,PEETS COFFEE &TEA, PANOPOLIS BAKERY & CAFE\n",
      "TIGIN IRISH PUB,PEETS COFFEE&TEA,PANOPOLIS BAKERY&CAFE\n",
      "UNCLES BOONS, LLC\n",
      "EMPLOYEE CAFETERIA, SOCIAL SECURITY ADMINISTRATION OFFICE\n",
      "HYATT, NY CENTRAL/ROOM SERVICE\n",
      "Dunkin' Donuts, Baskin Robbins\n",
      "LIANG, XIAN GARDEN,\n",
      "DESSERT CLUB, CHIKALICIOUS\n",
      "FDR 99¢ SLICE PIZZA\n",
      "DUNKIN' DONUTS, BASKIN ROBBINS\n",
      "WHALER BAR, CAFE BUON GIORNO\n",
      "DUNKIN' DONUTS, BASKIN ROBBINS\n",
      "DUNKIN DONUTS, BASKINS ROBBINS\n",
      "DUNKIN' DONUTS, BASKIN ROBBINS\n",
      "DUNKIN DONUTS, BASKIN ROBBINS\n",
      "DUNKIN' DONUTS, BASKIN ROBBINS\n",
      "DUNKIN' DONUTS, BASKIN ROBBINS\n",
      "MRS. FIELDS, TCBY\n",
      "SUSHI FUSSION, LLC\n",
      "DUNKIN' DONUTS, BASKIN ROBBINS\n",
      "BISOUS, CIAO.\n",
      "DUNKIN' DONUTS, BASKIN ROBBINS\n",
      "OUI, OUI, CREPES AND PIZZA\n",
      "DUNKIN' DONUTS, BASKIN ROBBINS\n",
      "DUNKIN' DONUTS, BASKIN ROBBINS\n",
      "CADWALADER, WICKERSHAM & TAFT\n",
      "Blended-Up Juice, Smoothies & Salad Bar, CORP\n",
      "DUNKIN' DONUTS, BASKIN ROBBINS\n",
      "BOOM BOOM ROOM, LE BAIN, THE STANDARD\n",
      "BEANS, GRAPES AND LEAVES\n",
      "CAFÉ GUSTO\n",
      "DUNKIN' DONUTS, BASKIN ROBBINS\n",
      "DUNKIN' DONUTS, BASKIN ROBBINS\n",
      "GOTHAM FRESH FOODS, SUBWAY\n",
      "DUNKIN' DONUTS, BASKIN ROBBINS\n",
      "99¢ FAMOUS PIZZA\n",
      "YUMMY FRIED CHICKEN, PIZZA & GRILL\n",
      "CREDIT SUISSE B-2= CAFE\n",
      "V {iv} Thai Restaurant & Bar\n",
      "DUNKIN' DONUTS, BASKIN ROBBINS\n",
      "DUNKIN' DONUTS, BASKIN ROBBINS\n",
      "BUNK*R\n",
      "DELICIAS CUENCANAS BAR-RESTAURANT DELI,\n",
      "OAXACA GREENWICH,LLC\n",
      "STARBUCKS COFFEE,LIMITED BRANDS CAFE\n",
      "HAMPTON INN, UNITED NATIONS\n",
      "DUNKIN' DONUTS, BASKIN ROBBINS\n",
      "1174 FULTON CUISINE, HALAL FOOD\n",
      "KFC, TACO BELL\n",
      "DUNKIN' DONUTS, BASKIN ROBBINS\n",
      "DUNKIN' DONUTS, BASKIN ROBBINS\n",
      "DUNKIN' DONUTS, BASKIN ROBBINS\n",
      "DUNKIN' DONUTS, BASKIN ROBBINS\n",
      "SUBWAY, CARVEL ICE CREAM\n",
      "ORGANIC FOOD, NATURAL JUICES AND COFFEE SHOP\n",
      "DUNKIN' DONUTS, BASKIN ROBBINS\n",
      "DUNKIN' DONUTS, BASKIN ROBBINS\n",
      "ULTIMATE FITNESS, QUEENS\n",
      "DUNKIN' DONUTS, BASKIN ROBBINS\n",
      "BURGER KING, POPEYE'S CHICKEN & BISCUITS\n",
      "MANHATTAN'S PARADISE PIZZA, INC\n",
      "MICHAEL & SOPHIA'S PIZZERIA, INC.\n",
      "CINEMA 1, 2, & 3\n",
      "SUITE 200, 1879\n",
      "DUNKIN' DONUTS, BASKIN ROBBINS\n",
      "DUNKIN' DONUTS, BASKIN ROBBINS\n",
      "KENTUCKY FRIED CHICKEN, TIM HORTONS\n",
      "SUBWAY, PIZZA & BURGER UR WAY\n",
      "DUNKIN' DONUTS, BASKIN ROBBINS\n",
      "CALIENTITO DELI, RESTAURANT & LOUNGE BAR\n",
      "HUMRO BHIM'S CAFE,\n",
      "DUNKIN' DONUTS, BASKIN ROBBINS\n",
      "DUNKIN DONUTS, SUBWAY\n",
      "DUNKIN' DONUTS, BASKIN ROBBINS\n",
      "DUNKIN' DONUTS, BASKIN ROBBINS\n"
     ]
    }
   ],
   "source": [
    "r = re.compile('^[a-zA-Z&0-9#.:@() /\\'$+!%?-]*$')\n",
    "unusuals = set()\n",
    "for e in entries:\n",
    "    if not r.match(e.values.get('DBA')):\n",
    "        unusuals.add((e.values.get('DBA'), e.values.get('ADDRESS')))\n",
    "print len(unusuals)\n",
    "for u in unusuals:\n",
    "    print u[0]"
   ]
  },
  {
   "cell_type": "code",
   "execution_count": 170,
   "metadata": {
    "collapsed": false
   },
   "outputs": [
    {
     "name": "stdout",
     "output_type": "stream",
     "text": [
      "Le Bernardin Privé\n",
      "Le Bernardin Privé\n",
      "************************\n",
      "NIGHT°\n",
      "NIGHT°\n",
      "************************\n",
      "99¢ FAMOUS PIZZA\n",
      "99¢ FAMOUS PIZZA\n",
      "************************\n",
      "BUNK*R\n",
      "BUNK*R\n",
      "************************\n",
      "CREDIT SUISSE B-2= CAFE\n",
      "CREDIT SUISSE B-2= CAFE\n",
      "************************\n",
      "FDR 99¢ SLICE PIZZA\n",
      "FDR 99¢ SLICE PIZZA\n",
      "************************\n",
      "99¢ HOT PIZZA\n",
      "99¢ HOT PIZZA\n",
      "************************\n",
      "CAFÉ GUSTO\n",
      "CAFÉ GUSTO\n",
      "************************\n",
      "NINE_D THAI\n",
      "NINE_D THAI\n",
      "************************\n",
      "V {iv} Thai Restaurant & Bar\n",
      "V {iv} Thai Restaurant & Bar\n",
      "************************\n"
     ]
    }
   ],
   "source": [
    "for u in unusuals:\n",
    "    print u\n",
    "    print .replace('Â', '')\n",
    "    print '************************'"
   ]
  },
  {
   "cell_type": "code",
   "execution_count": 144,
   "metadata": {
    "collapsed": false
   },
   "outputs": [
    {
     "name": "stdout",
     "output_type": "stream",
     "text": [
      "set(['Cycle Inspection', 'Inter-Agency Task Force', 'Administrative Miscellaneous', 'Calorie Posting', 'Trans Fat', 'Pre-permit (Operational)', 'Smoke-Free Air Act', 'Pre-permit (Non-operational)'])\n",
      "****************************************\n",
      "set(['Compliance Inspection', 'Second Compliance Inspection', 'Reopening Inspection', 'Initial Inspection', 'Limited Inspection', 'Re-inspection'])\n"
     ]
    }
   ],
   "source": [
    "first_cat = set()\n",
    "second_cat = set()\n",
    "for e in entries:\n",
    "    itype = e.values['INSPECTION_TYPE']\n",
    "    splits = itype.split('/')\n",
    "    if len(splits) > 1:\n",
    "        first_cat.add(splits[0].strip())\n",
    "        second_cat.add(splits[1].strip())\n",
    "print first_cat\n",
    "print '****************************************'\n",
    "print second_cat"
   ]
  },
  {
   "cell_type": "code",
   "execution_count": 64,
   "metadata": {
    "collapsed": false
   },
   "outputs": [
    {
     "name": "stdout",
     "output_type": "stream",
     "text": [
      "['CAMIS', 'DBA', 'BORO', 'BUILDING', 'STREET', 'ZIPCODE', 'PHONE', 'CUISINE DESCRIPTION', 'INSPECTION DATE', 'ACTION', 'VIOLATION CODE', 'VIOLATION DESCRIPTION', 'CRITICAL FLAG', 'SCORE', 'GRADE', 'GRADE DATE', 'RECORD DATE', 'INSPECTION TYPE']\n"
     ]
    }
   ],
   "source": [
    "print header"
   ]
  },
  {
   "cell_type": "code",
   "execution_count": 21,
   "metadata": {
    "collapsed": false
   },
   "outputs": [],
   "source": [
    "conn = psycopg2.connect(\"dbname=yelp\")"
   ]
  },
  {
   "cell_type": "code",
   "execution_count": 22,
   "metadata": {
    "collapsed": true
   },
   "outputs": [],
   "source": [
    "c = conn.cursor()"
   ]
  },
  {
   "cell_type": "code",
   "execution_count": 25,
   "metadata": {
    "collapsed": true
   },
   "outputs": [],
   "source": [
    "c.execute('''CREATE TABLE inspections (\\\n",
    "CAMIS varchar(10),\n",
    "DBA varchar(255),\n",
    "BORO varchar(15),\n",
    "BUILDING varchar(10),\n",
    "STREET varchar(100),\n",
    "ZIPCODE varchar(5),\n",
    "PHONE varchar(5),\n",
    "C_DESC varchar(200),\n",
    "INSPECTION_DATE date,\n",
    "ACTION varchar(150),\n",
    "VIOLATION_CODE varchar(3),\n",
    "VIOLATION_DESC varchar(600),\n",
    "CRITICAL varchar(15),\n",
    "SCORE smallint,\n",
    "GRADE varchar(1),\n",
    "GRADE_DATE date,\n",
    "RECORD_DATE date,\n",
    "INSPECTION_TYPE varchar(64)\n",
    ")'''\n",
    ")"
   ]
  },
  {
   "cell_type": "code",
   "execution_count": 26,
   "metadata": {
    "collapsed": true
   },
   "outputs": [],
   "source": [
    "conn.commit()"
   ]
  },
  {
   "cell_type": "code",
   "execution_count": 40,
   "metadata": {
    "collapsed": false
   },
   "outputs": [
    {
     "name": "stderr",
     "output_type": "stream",
     "text": [
      "ERROR: An unexpected error occurred while tokenizing input\n",
      "The following traceback may be corrupted or invalid\n",
      "The error message is: ('EOF in multi-line string', (1, 1))\n",
      "\n"
     ]
    },
    {
     "ename": "ProgrammingError",
     "evalue": "must be superuser to COPY to or from a file\nHINT:  Anyone can COPY to stdout or from stdin. psql's \\copy command also works for anyone.\n",
     "output_type": "error",
     "traceback": [
      "\u001b[1;31m---------------------------------------------------------------------------\u001b[0m",
      "\u001b[1;31mProgrammingError\u001b[0m                          Traceback (most recent call last)",
      "\u001b[1;32m<ipython-input-40-ee50797be58c>\u001b[0m in \u001b[0;36m<module>\u001b[1;34m()\u001b[0m\n\u001b[0;32m      8\u001b[0m \u001b[0mHEADER\u001b[0m \u001b[0mTRUE\u001b[0m\u001b[1;33m,\u001b[0m\u001b[1;33m\u001b[0m\u001b[0m\n\u001b[0;32m      9\u001b[0m \u001b[0mQUOTE\u001b[0m \u001b[1;34m'\"'\u001b[0m\u001b[1;33m\u001b[0m\u001b[0m\n\u001b[1;32m---> 10\u001b[1;33m )'''\n\u001b[0m\u001b[0;32m     11\u001b[0m )\n",
      "\u001b[1;31mProgrammingError\u001b[0m: must be superuser to COPY to or from a file\nHINT:  Anyone can COPY to stdout or from stdin. psql's \\copy command also works for anyone.\n"
     ]
    }
   ],
   "source": [
    "c.execute('''\n",
    "COPY inspections \n",
    "FROM './raw_inspection_data.csv'\n",
    "WITH (\n",
    "FORMAT CSV,\n",
    "DELIMITER ',',\n",
    "NULL '',\n",
    "HEADER TRUE,\n",
    "QUOTE '\"'\n",
    ")'''\n",
    ")"
   ]
  },
  {
   "cell_type": "code",
   "execution_count": 39,
   "metadata": {
    "collapsed": true
   },
   "outputs": [],
   "source": [
    "conn.rollback()"
   ]
  },
  {
   "cell_type": "code",
   "execution_count": null,
   "metadata": {
    "collapsed": true
   },
   "outputs": [],
   "source": [
    "conn.commit()\n",
    "conn.close()"
   ]
  },
  {
   "cell_type": "code",
   "execution_count": 51,
   "metadata": {
    "collapsed": false
   },
   "outputs": [
    {
     "data": {
      "text/plain": [
       "['__doc__',\n",
       " '__init__',\n",
       " '__module__',\n",
       " '_name',\n",
       " '_valid',\n",
       " '_validate',\n",
       " 'delimiter',\n",
       " 'doublequote',\n",
       " 'escapechar',\n",
       " 'lineterminator',\n",
       " 'quotechar',\n",
       " 'quoting',\n",
       " 'skipinitialspace']"
      ]
     },
     "execution_count": 51,
     "metadata": {},
     "output_type": "execute_result"
    }
   ],
   "source": [
    "dir(dialect)"
   ]
  },
  {
   "cell_type": "code",
   "execution_count": 57,
   "metadata": {
    "collapsed": false
   },
   "outputs": [
    {
     "data": {
      "text/plain": [
       "'\\r\\n'"
      ]
     },
     "execution_count": 57,
     "metadata": {},
     "output_type": "execute_result"
    }
   ],
   "source": [
    "dialect."
   ]
  },
  {
   "cell_type": "code",
   "execution_count": null,
   "metadata": {
    "collapsed": true
   },
   "outputs": [],
   "source": []
  },
  {
   "cell_type": "code",
   "execution_count": 41,
   "metadata": {
    "collapsed": false
   },
   "outputs": [
    {
     "data": {
      "text/plain": [
       "['excel-tab', 'excel']"
      ]
     },
     "execution_count": 41,
     "metadata": {},
     "output_type": "execute_result"
    }
   ],
   "source": []
  },
  {
   "cell_type": "code",
   "execution_count": null,
   "metadata": {
    "collapsed": true
   },
   "outputs": [],
   "source": []
  },
  {
   "cell_type": "code",
   "execution_count": null,
   "metadata": {
    "collapsed": true
   },
   "outputs": [],
   "source": []
  },
  {
   "cell_type": "code",
   "execution_count": null,
   "metadata": {
    "collapsed": true
   },
   "outputs": [],
   "source": []
  },
  {
   "cell_type": "code",
   "execution_count": null,
   "metadata": {
    "collapsed": true
   },
   "outputs": [],
   "source": [
    "'''CREATE TABLE inspections (\\\n",
    "CAMIS varchar(10),\n",
    "DBA varchar(255),\n",
    "BORO varchar(15),\n",
    "BUILDING varchar(10),\n",
    "STREET varchar(100),\n",
    "ZIPCODE varchar(5),\n",
    "PHONE varchar(5),\n",
    "C_DESC varchar(200),\n",
    "INSPECTION_DATE date,\n",
    "ACTION varchar(150),\n",
    "VIOLATION_CODE varchar(3),\n",
    "VIOLATION_DESC varchar(600),\n",
    "CRITICAL varchar(15),\n",
    "SCORE smallint,\n",
    "GRADE varchar(1),\n",
    "GRADE_DATE date,\n",
    "RECORD_DATE date,\n",
    "INSPECTION_TYPE varchar(64)\n",
    ");\n",
    "\n",
    "COPY inspections \n",
    "FROM './raw_inspection_data.csv'\n",
    "WITH (\n",
    "FORMAT CSV,\n",
    "DELIMITER ',',\n",
    "NULL '',\n",
    "HEADER TRUE,\n",
    "QUOTE '\"'\n",
    ");\n",
    "\n",
    "'''"
   ]
  },
  {
   "cell_type": "markdown",
   "metadata": {},
   "source": [
    "## Yelp API"
   ]
  },
  {
   "cell_type": "code",
   "execution_count": null,
   "metadata": {
    "collapsed": true
   },
   "outputs": [],
   "source": [
    "cs"
   ]
  },
  {
   "cell_type": "code",
   "execution_count": null,
   "metadata": {
    "collapsed": true
   },
   "outputs": [],
   "source": []
  },
  {
   "cell_type": "markdown",
   "metadata": {},
   "source": [
    "## Yelp Scraper"
   ]
  },
  {
   "cell_type": "code",
   "execution_count": null,
   "metadata": {
    "collapsed": true
   },
   "outputs": [],
   "source": []
  },
  {
   "cell_type": "code",
   "execution_count": null,
   "metadata": {
    "collapsed": true
   },
   "outputs": [],
   "source": []
  }
 ],
 "metadata": {
  "kernelspec": {
   "display_name": "Python 2",
   "language": "python",
   "name": "python2"
  },
  "language_info": {
   "codemirror_mode": {
    "name": "ipython",
    "version": 2
   },
   "file_extension": ".py",
   "mimetype": "text/x-python",
   "name": "python",
   "nbconvert_exporter": "python",
   "pygments_lexer": "ipython2",
   "version": "2.7.6"
  }
 },
 "nbformat": 4,
 "nbformat_minor": 0
}
