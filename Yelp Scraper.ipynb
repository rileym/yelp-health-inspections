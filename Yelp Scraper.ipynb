{
 "cells": [
  {
   "cell_type": "code",
   "execution_count": 1,
   "metadata": {
    "collapsed": true
   },
   "outputs": [],
   "source": [
    "import re\n",
    "import time\n",
    "import pdb\n",
    "import sys\n",
    "from collections import namedtuple\n",
    "from operator import itemgetter\n",
    "\n",
    "import psycopg2\n",
    "from psycopg2.extras import NamedTupleConnection\n",
    "\n",
    "import requests\n",
    "from urlparse import urljoin\n",
    "from bs4 import BeautifulSoup"
   ]
  },
  {
   "cell_type": "markdown",
   "metadata": {},
   "source": [
    "## _This Notebook: Scrape reviews from complete entries in \"restaurants\" table, Clean, Build \"reviews\" table, update restuarant table (number of reviews, priceing info, review score)_"
   ]
  },
  {
   "cell_type": "markdown",
   "metadata": {},
   "source": [
    "#--------------------------------------------------------------------------------------------"
   ]
  },
  {
   "cell_type": "markdown",
   "metadata": {},
   "source": [
    "####Scrape For:\n",
    "1. Number of Reviews\n",
    "2. Up to 50 reviews\n",
    "3. Rating (distribution?)\n",
    "4. Price Range\n",
    "\n",
    "#### TODO\n",
    "1. Test beautifulsoup grabs for (1-5)\n",
    "2. Design db_interfacer, yelp_website_interfacer, yelp_page_parser"
   ]
  },
  {
   "cell_type": "raw",
   "metadata": {},
   "source": [
    "Number of reviews:\n",
    "<span> itemprop=\"reviewCount\"\n",
    "#GRAB FROM: text\n",
    "\n",
    "Rating:\n",
    "<class=\"star-img stars_4_half\" \n",
    "#GRAB FROM: title=\"4.5 star rating\"\n",
    "\n",
    "Price Range:\n",
    "<span class=\"business-attribute price-range\" itemprop=\"priceRange\"\n",
    "#GRAB FROM: text\n",
    "\n",
    "Reviews:\n",
    "<div class=\"review-list\"\n",
    "\n",
    "<div class=\"review-content\"\n",
    "\n",
    "(Rating)\n",
    "<i class=\"star-img stars_5\"\n",
    "\n",
    "(Date)\n",
    "\n",
    "<meta itemprop=\"datePublished\"\n",
    "\n",
    "(Body)\n",
    "<p itemprop=\"description\"\n",
    "#GRAB FROM: text\n",
    "\n",
    "\n",
    "Rating distribution \n",
    "/<yelp_id>/ratings_histogram/ \n",
    "\n"
   ]
  },
  {
   "cell_type": "markdown",
   "metadata": {},
   "source": [
    "### Proof of Concept"
   ]
  },
  {
   "cell_type": "code",
   "execution_count": 66,
   "metadata": {
    "collapsed": true
   },
   "outputs": [],
   "source": [
    "base_yelp_biz_url = 'http://www.yelp.com/biz/'\n",
    "sample_biz_id = \"prova-new-york\"\n",
    "restaurant_url = urljoin(base_yelp_biz_url, sample_biz_id)\n",
    "\n",
    "response = requests.get(url = base_yelp_biz_url + sample_biz_id)\n",
    "soup = BeautifulSoup(response.content)"
   ]
  },
  {
   "cell_type": "markdown",
   "metadata": {},
   "source": [
    "#### Review Score"
   ]
  },
  {
   "cell_type": "code",
   "execution_count": 69,
   "metadata": {
    "collapsed": false
   },
   "outputs": [
    {
     "data": {
      "text/plain": [
       "4.5"
      ]
     },
     "execution_count": 69,
     "metadata": {},
     "output_type": "execute_result"
    }
   ],
   "source": [
    "selection = soup.select('div.biz-page-header-left meta')[0]\n",
    "float(selection.attrs['content'])"
   ]
  },
  {
   "cell_type": "markdown",
   "metadata": {},
   "source": [
    "#### Review Count"
   ]
  },
  {
   "cell_type": "markdown",
   "metadata": {},
   "source": [
    "Total"
   ]
  },
  {
   "cell_type": "code",
   "execution_count": 70,
   "metadata": {
    "collapsed": false
   },
   "outputs": [
    {
     "data": {
      "text/plain": [
       "59"
      ]
     },
     "execution_count": 70,
     "metadata": {},
     "output_type": "execute_result"
    }
   ],
   "source": [
    "selection = soup.select('div.biz-page-header-left span[itemprop=reviewCount]')[0]\n",
    "int(selection.text)"
   ]
  },
  {
   "cell_type": "markdown",
   "metadata": {},
   "source": [
    "English"
   ]
  },
  {
   "cell_type": "code",
   "execution_count": 71,
   "metadata": {
    "collapsed": false
   },
   "outputs": [
    {
     "data": {
      "text/plain": [
       "58"
      ]
     },
     "execution_count": 71,
     "metadata": {},
     "output_type": "execute_result"
    }
   ],
   "source": [
    "selection = soup.select('div.feed-sorts-filters.clearfix span.count')[0]\n",
    "int(selection.text.strip())"
   ]
  },
  {
   "cell_type": "markdown",
   "metadata": {},
   "source": [
    "#### Price Info"
   ]
  },
  {
   "cell_type": "markdown",
   "metadata": {},
   "source": [
    "Dollar Signs"
   ]
  },
  {
   "cell_type": "code",
   "execution_count": 72,
   "metadata": {
    "collapsed": false
   },
   "outputs": [
    {
     "data": {
      "text/plain": [
       "2"
      ]
     },
     "execution_count": 72,
     "metadata": {},
     "output_type": "execute_result"
    }
   ],
   "source": [
    "selection = soup.select('div.iconed-list-avatar > span.business-attribute.price-range')[0]\n",
    "len(selection.text)"
   ]
  },
  {
   "cell_type": "markdown",
   "metadata": {},
   "source": [
    "Price Range"
   ]
  },
  {
   "cell_type": "code",
   "execution_count": 73,
   "metadata": {
    "collapsed": false
   },
   "outputs": [
    {
     "name": "stdout",
     "output_type": "stream",
     "text": [
      "11 30\n"
     ]
    }
   ],
   "source": [
    "selection = soup.select('dd.nowrap.price-description')[0]\n",
    "(low, high) = tuple(map(int, tuple(selection.text.strip()[1:].split('-'))))\n",
    "print low, high"
   ]
  },
  {
   "cell_type": "markdown",
   "metadata": {},
   "source": [
    "#### Reviews"
   ]
  },
  {
   "cell_type": "code",
   "execution_count": 74,
   "metadata": {
    "collapsed": false,
    "scrolled": true
   },
   "outputs": [
    {
     "name": "stdout",
     "output_type": "stream",
     "text": [
      "Date: 2015-06-14\n",
      "Score: 5.0\n",
      "Review: \n",
      "Low key, fantastic drinks, quality ingredients, and handsome Italian bartenders? Sign me up please! This review is for the bar only, although I'll definitely be back to try the pizzas which looked and smelled amazing. Stopped in here for cocktails with a friend before her birthday dinner and could have stayed all night. The specialty cocktails were delicious, specifically the \"just got fired\" - mezcal, lemon, jalapeños, and magic were the key ingredients I believe. The staff was warm and friendly. The bartender even gave our friend a drink recipe to try on their own at home. Looking forward to going back\n",
      "***********************************\n",
      "Date: 2015-06-09\n",
      "Score: 5.0\n",
      "Review: \n",
      "Easy to get a last minute reservation for a fairly big party. The pizzas were really good. Also, $6 wines during happy hour.  I'll just leave the review at that. I mean, $6 wines. HELLO.\n",
      "***********************************\n",
      "Date: 2015-05-28\n",
      "Score: 4.0\n",
      "Review: \n",
      "I came here with 5 other colleagues on a Thursday for lunch. We had a reservation but didn't need one because the place was empty. A CBS interview was actually being conducted between the owner and an interviewer so that was pretty cool. We ordered 5 pies for 6 people and the portion was a good amount (pies are 12 inches). We had the Margherita, the BOD and the arugula and prosciutto pizza; all were very very good. The price is also decent ($20 each including tax and a 25% tip). Service was good and the place is nice and comfy but my only complaint is that it was too hot. Way too hot. The doors were open but there seem to be no AC. Despite this, I will be back again.\n",
      "***********************************\n",
      "Date: 2015-04-09\n",
      "Score: 5.0\n",
      "Review: \n",
      "Prova serves really good pizza. The size of each pie is small enough so you can probably eat 1 by yourself. But it can be shared by 2. It's an in-between size. Bring 3 people and order 2. That should work out if you don't want to over-stuff yourself. I tried their arugula salad, the meatballs, and their Margherita pizza. Their arugula salad was good. The meatballs were decent. It comes with a huge pecorino flake on top that you break apart. The salad and the appetizer were all right, but their main thing is the pizza. Man what a pizza it is. This is a pure, Neapolitan style pizza--straight from Naples. The sauce is on the sweeter side. It's not as bad as I describe it. It's a good sweet with, not candy sweet. Also, the fresh mozzarella was delicious. Their crust is light, delicate, and tasty. It had good char as well. I'm from Atlanta, And their pizza isn't good as NY's. But they do have decent Neapolitan style places in Atlanta. I eat there all the time. However, it seems Prova's brings it to another level. Even though I eat Neapolitan pizza every day, I found myself craving Prova's Margherita. Unfortunately, I didn't have chance to try their other pies. Their Uni pizza looked very interesting. Maybe next time I visit NY, I will try it. But their Margherita can't be beat.\n",
      "***********************************\n",
      "Date: 2015-03-07\n",
      "Score: 4.0\n",
      "Review: \n",
      "Uni pizza. I liked the citrus flavors on the pizza itself, and the uni added an interesting touch. Too bad they were tiny pieces of uni, worth $30? Don't know. Their other pizzas were actually pretty good too. Thin crust -- think Marta. Their uovo (egg) pizza was definitely a highlight of the evening. Desserts were not that interesting, but still decent. Can't go wrong with panna cotta. Just keep in mind this is more of a pizza place (go elsewhere for dessert...)\n",
      "***********************************\n",
      "Date: 2015-05-04\n",
      "Score: 3.0\n",
      "Review: \n",
      "While Prova boasts \"90 seconds to Naples,\" it's really more like 90 seconds to 8th avenue. The space is located on busy 8th ave and when the floor ceiling windows at the entrance are wide open, passing pedestrians and police sirens join the meal along with other patrons straining their voices to be heard. Ambience aside, the real pride and joy of the restaurant is their adherence to the \"traditional standards of Verace Pizza Napoletana.\" Prova strives to create easily foldable, thin pizza made from fragrant and flavorful dough. The wine list curated by sommelier Maurizio de Rosa showcases a variety of grapes from the native land of Campania. Prova's menu options outside of the realm of pizza is limited, but granted usually, if not almost always, people go to a pizza joint seeking pizza. The beautiful thing about eating pizza is having a myriad of ingredients and flavors come together, but there's a delicate balance between just right and just too much going on. Prova's DOP pizza came charred on the sides and drenched in juices from the Corbara cherry tomatoes. Globs of mozzarella and strips of basil slipped off the pizza with every bite of soggy crust. On the other side of the spectrum, the Cacio e Uova, a simpler white pizza topped with organic farm eggs and Gran Cru Sheep's Milk Parmigiano, had the exact opposite effect from the DOP. The excessive amount of toppings left the texture slightly rubbery and despite the abundance of high quality ingredients, the flavors were underwhelming. While I appreciate the effort towards authenticity, Prova fell short in comparison to other similar pizza establishments.Pizzas: $15 - $20Wines by the bottle: $35+\n",
      "***********************************\n",
      "Date: 2015-05-17\n",
      "Score: 4.0\n",
      "Review: \n",
      "Excellent pizza! Seriously, FREAKING great. Service was OK. But it took SO SO LONG TO GET THE FOOD. Like really, I think it took like an hour to get the pizza. The server knew it was a problem though and he gave us a free round of Sangria on the house. So at least there was that. We shared a marg pizza and the eggplant app and it was DELISH. Very tasty and flavorful and I'll def be back!\n",
      "***********************************\n",
      "Date: 2015-03-08\n",
      "Score: 4.0\n",
      "Review: \n",
      "I just found my favorite Italian restaurant! Great pizza just like in Italy with crust perfected!Their eggplant parmagiana was also different. Although the eggplant was super soft, the mozzarella cheese in between was chewy and I think they cooked it with their own fresh tomatoes. There were tomato peels here and there.Nice accommodating staff though. We shall return!\n",
      "***********************************\n",
      "Date: 2015-04-28\n",
      "Score: 3.0\n",
      "Review: \n",
      "If I wanted average pizza I wouldn't have trekked all the way to the west side. We went with the sausage & broccoli rabe as well as classic margherita pizza. The sausage was very bland, probably since it was a white pizza. Admittedly, their eggparm appetizer was out of the world. bumped this up from 2 stars to 3. I would go back and order 2 of these and a call it a night.If you find yourself nearby, stop in. I wouldn't add it to a \"must try\" list though.\n",
      "***********************************\n",
      "Date: 2015-01-07\n",
      "Score: 3.0\n",
      "Review: \n",
      "After Donatella and Heartwood in the same spot comes Prova, the 3rd pizza joint from Donatella Arpaia and her partners. I hate to say it, but I think I preferred both Donatella and Heartwood over the newest incarnation, and will probably be back here in a few months to try an as yet unnamed new pizza restaurant.The space is pretty much the same, except the pizza oven in the open kitchen in the back is no longer gold. It is a nice spot, and the service is decent, though not great. The pizzas are pretty good, but with a new high end pizza restaurant opening seemingly every week though these days, they need to step it up a bit. It pales in comparison to Marta, GG's, Rossopomodoro, Vic's, B Side, etc.Aside from the pizza, which is broken into two categories (Tradizionale and Novella), all there is to get is Salads, Salumi and Cheeses, those 3 sections you usually skip over on the menu to get to the good stuff.We did try the Soppressata from the Salumi ($9) and the Caciovallo Di Bufala from the Cheeses ($10). They brought out the none-too-appealing plate of cheese, followed a few minutes later by the better-looking plate of meat, and then after a few more minutes thankfully, some bread to eat it with. The bread was the saving grace, as it was really excellent - hot and chewy thin strips that went well with the meat and cheese.For the pizzas, we went with two from the Novella section. First was the namesake Prova pie ($19), toppped with tomatoes, fior di latte, rucola and prosciutto di parma. The crust was nice and chewy and the dough was very soft, making for a good base for the pie, but it was a little tough to eat with the long pieces of prosciutto hard to gnaw off between bites. On the other hand, the Cacio e Uova pie ($15), had better toppings, with the fresh eggs and sheep's milk parmigiana adding some seriously good flavor, but the dough on this one seemed to be produced by a completely different pizza chef and oven. The slices were stiff and the crust was very hard. I'm not sure if this was the intention, but while it tasted good enough, it wasn't as pleasant as the texture of the other one.They still don't have dessert, offering up just a few standard flavors of gelato, so we skipped that. Donatella and the whole management crew was walking around the whole night checking on the guests. I hope things improve here, and I might be willing to come back once they liven up the menu with more stuff and add some dessert (hint/plea: bring back that great rainbow cookie ice cream sandwich that was served at Donatella, and I'll definitely be back to give it another try).\n",
      "***********************************\n",
      "Date: 2015-04-10\n",
      "Score: 3.0\n",
      "Review: \n",
      "Not nearly worth all the praise ....Pizza is one of those things that can be so amazing it makes you forget it's full of calories. The pies and Prova didn't give me the warm and fuzzies but I would return to try other options.Arrived here to an almost empty place around 10:15 last Saturday night . Atmosphere 4 stars this place was filled with couples , candlelight and cute decor.We waited 20 min for someone to come over to take our drink order and answer a quick question about Italian wines ( by the bottle ) when we finally ordered bevs it took another 10 min for someone to come over and take our food order. We opted for two pies to share between the two of us the Dop and one with artichokes , mushrooms.Luckily the Naples style pies cook quick as we were heavy into the bottle of wine when the arrived. Flavor wise everything was spot on I did feel the addition of more salt may have been the way to go for the kitchen.The dough was decent but a little thicker than I would have liked .There reason for 3 stars instead of 4 was the service. I get it your establishment is built around a more European way of servicing customers but with a near empty dining room to have patrons waiting 30 min to order food that seems a bit excessive even for NYC .If I was in Chelsea again ( which is a rarity ) I'd consider Prova unless another amazingly new pizza place opens up that doesn't make me wait 30 min has an open table .\n",
      "***********************************\n",
      "Date: 2015-06-23\n",
      "Score: 4.0\n",
      "Review: \n",
      "Prova pizza for 19 bucks? i mean I gotta go here with my basketball buddies.\n",
      "***********************************\n",
      "Date: 2015-03-15\n",
      "Score: 5.0\n",
      "Review: \n",
      "One of the best Neapolitan Pizzas here in NYC. The margherita is terrific, the DOP is with real \"Mozzarella di Bufala Campana\".Must try (PROVA!!) the calzone: delicious.They also serve pasta and, listed among salads, Zucchini alla Scapece (just try them and let me know.. won't be disappointed!).If you are in a small group, seat at the Bar: Theresa the bartender is very gentle and attentive.\n",
      "***********************************\n",
      "Date: 2015-05-14\n",
      "Score: 4.0\n",
      "Review: \n",
      "Authentic Italian style restaurant. The DOP was literally the best margarita style pizza I have ever tasted. Our server was Carlos who was extremely helpful when we had questions in regards to the menu. It was definitely worth a few extra bucks to enjoy the higher quality corbara cherry tomatoes and bufala mozzarella. We also had the Chelsea (because I liked the name ;) ) salad which is fennel based. I would recommended it to anyone who is a fan of fennel for it's an acquired taste, although the pomegranate was a nice addition. The lighting is very dim, so if you're coming here for a blind date make sure you get a good look at him/her before you enter the restaurant.\n",
      "***********************************\n",
      "Date: 2015-03-30\n",
      "Score: 5.0\n",
      "Review: \n",
      "Traditional Italian pizzas with unique and fresh ingredients. The bread/crust is phenomenal as well. Not only that, but they service was by far hands down the best ice had in New York City. Request Chris. Very nice wine selection and well priced too I would highly recommend coming here with anyone. Salute\n",
      "***********************************\n",
      "Date: 2015-03-16\n",
      "Score: 5.0\n",
      "Review: \n",
      "Very simple menu yet plenty of options. Our server was very attentive and understanding. I explained that I couldn't eat cheese and he came up with several options for me and I have to say...what I had was delicious. The crust is perfection. Thin yet bubbly where it needs to be. I recommend making reservations. We didn't and we were able to sit but it got very crowded very quickly.They have a great looking dessert menu and tons of wines to choose from as well.I would happily go back.\n",
      "***********************************\n",
      "Date: 2015-03-18\n",
      "Score: 4.0\n",
      "Review: \n",
      "Pizza might seem simple but it really isn't and Prova totally gets that. Visit their website and read about their process. The special flour?  The special oven? Yes, it all makes a difference. The crust is supremely thin yet flavorful and the outer crust isn't crazy crispy - it is charred while being the right amount of soft. We kept is classic with the Margherita but I was definitely tempted to try some of the more exotic pies eg squid ink. The meatball appetizer is also worth checking out. I would skip the salad however; salads are the same price as the pies and while good they're just simply dressed and nothing to write home about. Lastly, the service was great. My water glass never ran low and they were super attentive. A great casual spot and sure to become a neighborhood gem!\n",
      "***********************************\n",
      "Date: 2015-02-12\n",
      "Score: 3.0\n",
      "Review: \n",
      "Pretty decent pizza. Great sourdough bread. A couple complaints: ordered a pizza that the menu said had sausage on it--it didn't have sausage on it. Ordered the sea urchin pizza--terrible. Overwhelmed with lemon and mint, cold temperature, all in all just a really weird and not pleasant thing to eat.Best part was the plate of cured meats, which were all great. Cheeses were good too if not standard fare.\n",
      "***********************************\n",
      "Date: 2015-04-22\n",
      "Score: 4.0\n",
      "Review: \n",
      "Wonderful! We had a nice intimate double date here and it was the perfect mix of tasty, comfy, easy but still classy. The pizzas are advertised as \"single serve\" but 2 pizzas easily satisfied the 4 of us (with the addition of a salumi plate and olives). The interior is warm and candle-lit. The setting was perfect for a nice bottle of wine. The zucchini pizza was very tasty. Crust was light and chewy. Prices were reasonable and a good time was had by all. Very nice!\n",
      "***********************************\n",
      "Date: 2015-01-31\n",
      "Score: 3.0\n",
      "Review: \n",
      "Fantastic ambiance and location undermined by an average experience and ho-hum food.We went because this place was listed as one of New York's best pizza places and it does seem to have fairly authentic Napoli pizza and crust. However, even though the place was relatively empty we had strangely confused service (kids drinks that took about 20 minutes to arrive and pizzas were not adjusted with no basil per our request).And, while the Cetara pizza with mozzarella, tomatoes and anchovies was very good, the Urcina with squid ink and uni was dry and the flavors didn't work very well together.  Oysters were good, but overpriced. Would also be nice to have iced tea available for the non-drinkers in the crowd.I think this place could be much, much better with the right service focus and some attention to the menu.\n",
      "***********************************\n",
      "Date: 2015-01-30\n",
      "Score: 5.0\n",
      "Review: \n",
      "AMAZING pizza!!!  The Margarita was my favorite, but I also really enjoyed the Cacio e Uova too (note that the egg on that is baked onto the pizza rather than fried and placed on top).  Sat at the bar, and the service was pretty good. I loved the ambiance (low key, trendy, chelsea).  Will definitely be back!\n",
      "***********************************\n",
      "Date: 2015-04-29\n",
      "Score: 5.0\n",
      "Review: \n",
      "Perfect Italian Pizza @ProvaPizzaNYC great tagline: 90 seconds to Naples. CHELSEA #NYC - North to South Italian wine selection...a unique Tiramisu to end an enjoyable dinner.\n",
      "***********************************\n",
      "Date: 2015-06-22\n",
      "Score: 4.0\n",
      "Review: \n",
      "Pizza was ok. I was prepared to have my mind blown. Crust was great but could have used a little more flavor. Hard to say exactly why it wasn't awesome. Maybe it needed more cheese?  The atmosphere is perfect and it wasn't too crowded in a Sunday night. Great place to meet friends and chat\n",
      "***********************************\n",
      "Date: 2015-04-08\n",
      "Score: 4.0\n",
      "Review: \n",
      "First time here and had a great experience. Our table was actually ready before the reservation time which never happens and even had a chance to sit at the bar and go over the extensive wine menu with the bartender. She was extremely knowledgable, the price point was great, and the pour was heavy. Score! I wouldn't come here if you were looking for an extensive beer list, here it was lacking.The atmosphere was dim, modern and very sexy. After seated at the table, our waiter was on point, he was at tentative and not overbearing and made great suggestions.We started with a radish salad with arugula which was plenty  to share as a starter and came with some warm bread and olive oil, great starter dish. We then shared a pizza with kalamata olives, artichoke hearts, mozzarella and arugula and it was savory and the homemade crust was perfect. The pizza was cooked perfect with a slight smokeyness from the brick oven. Don't each order your own pizza unless you want leftovers, one is plenty.We passed on desert since we were too full but great experience and would recommend it to a friend and definitely come back.\n",
      "***********************************\n",
      "Date: 2015-03-14\n",
      "Score: 4.0\n",
      "Review: \n",
      "Yes, the pizza here seems expensive, but 1) The pies are really big, at least 12\" and maybe pushing 14\", giving you six sizable slices, and 2) All the hype about the top-shelf ingredients is justified.We had the DOP (high-end margherita) and wow, it was something else, with silky mozzarella and gorgeous roasted tomatoes. Also the Calabresina, which had juicy mushrooms and this incredible \"spreadable sausage\" (nduja) that's akin to chorizo.Crust was very good - blistered yet moist, right on point. And our waiter was a great guy, happily letting us taste three glasses of red before choosing.\n",
      "***********************************\n",
      "Date: 2015-03-07\n",
      "Score: 2.0\n",
      "Review: \n",
      "Not really sure what the hype about Prova is. Came here with my girlfriend last night and we were less than thrilled. While the wait staff was friendly and the environment was ok, the food wasn't great. We ordered the eggplant parmigiana, uni pizza and DOP pizza. The eggplant was fine, but I've experienced so much better at pretty much every other Italian restaurant I've been to in New York. While the DOP was decent, it was really the only thing we liked. The uni one was truly repulsive; so much that we gave it back. Two cocktails, 2 pizzas and one appetizer ran us $80. Not crazy expensive considering it's Chelsea, but the quality of food didn't reflect in the price.  If you want better pizza, go to Ribalta, Otto or almost anywhere in the East Village. Prova put on a poor show. Remember, there was a pizza place VERY SIMILAR to this one at the same location several months ago and it went out of business. While I liked the people who work here, the food was was sub-par and it's likely Prova will follow the same fate as its predecessor.\n",
      "***********************************\n",
      "Date: 2015-05-18\n",
      "Score: 3.0\n",
      "Review: \n",
      "It's a 3 star, food is okay, service is okay. Nothing is really special or impressive.\n",
      "***********************************\n",
      "Date: 2015-03-29\n",
      "Score: 4.0\n",
      "Review: \n",
      "Please see my check in. I always wrote my review in the wrong place. Ugh!Anyways, the pizza is good. Had the caprese app which was good  the pizza is better than it was as donatella's. The new name and hopefully chef has upped the game here a bit. Not loud. Good place to talk while eating.\n",
      "***********************************\n",
      "Date: 2015-03-16\n",
      "Score: 5.0\n",
      "Review: \n",
      "This is the best pizza I've had outside of Italy. I don't know how to describe the difference - the fresh ingredients, the tender chewiness of the crust - just amazing. I had the Calabresina and highly recommend it. The atmosphere is great. It's one of the few places left in Chelsea that you can carry on a conversation at the table without shouting.I hear the desserts are great. I can't wait to go back when I'm not on a diet.\n",
      "***********************************\n",
      "Date: 2015-05-22\n",
      "Score: 5.0\n",
      "Review: \n",
      "Simple menu using quality ingredients. The cheese selection and meat balls are very good.\n",
      "***********************************\n",
      "Date: 2015-01-22\n",
      "Score: 5.0\n",
      "Review: \n",
      "Even the water is imported from Italy . . . Prova spares no expense at providing the transportive experience that is their pizza pies.  Not just double-zero flour and a Stefano Ferrara oven, but even the water has to come from the source.When the basics are awesome, you can build up from there.  Thus, it's no surprise that the toppings truly are Michelin quality.  The ricci (aka sea urchin or uni) on the urcina is sashimi quality.  The burrata on the cetara is some kind of miracle: light but rich and creamy.  I could go on . . . but I don't want to to ruin the surprise for you of having a transcendental experience at a casual pizza joint.Finally, dining at Prova is like eating at that for-locals-only restaurant in Naples.  Warm, attentive, and always a step ahead of the diner.  \"May I suggest a beautiful wine for your pizza selections tonight, the Lettere (a sparkling, chilled red)?\"  \"How about dessert soaked in rum?\"I walked out of Prova with a huge smile on.  And I look forward to my next escape to Campania on 8th Ave . . . P.S. Keste finally has some real competition.  P.P.S. I ate at Donatella, and the only thing that has been retained from that era is the oven and the lovely blonde owner gracefully greeting guests.\n",
      "***********************************\n",
      "Date: 2015-04-25\n",
      "Score: 2.0\n",
      "Review: \n",
      "Pizza was good- good crust. But the experience was forgettable. The ambiance is nothing special and the service is pretty bad. We waited for about 15 minutes to get menus and some water; we kept having to ask for refills on our water. The waiters were inattentive and slow. While the crust was yummy the ingredients on the pizza were very ordinary. There are lots of wonderful pizza spots in the city- this one is kind of expensive for the food.\n",
      "***********************************\n",
      "Date: 2015-03-07\n",
      "Score: 4.0\n",
      "Review: \n",
      "Even though i did not have sky high expectations before i went here, the place was really good. Try any of their pizzas, but especially their margarita is one of the truest recipes/preparations i have seen in a long time. If they can do a simple pizza this delicious, you can not also go wrong with preferring a more fancy one.The stuff is really friendly as well, most of them were from italy when i went and they spoke italian all the time. This should tell something.\n",
      "***********************************\n",
      "Date: 2015-01-28\n",
      "Score: 5.0\n",
      "Review: \n",
      "One of the best new spaces in the city pizza wise.Great combinations of tastes , definitely a good reason to return and try more.\n",
      "***********************************\n",
      "Date: 2015-01-25\n",
      "Score: 5.0\n",
      "Review: \n",
      "What a team! U can't go wrong in this new pizza spot in Chelsea. Rosario, Mauricio and Donatella. All from Naples where pizza was invented. Now let's talk pizza! Of course the dough is perfect, chewy and woodsy. Great oven just like in Naples. Tomato sauce is amazing and makes a perfect Margherita with fior de latte.I tried the egg pizza, it was good but the sea urchin pizza with squid ink and mint is a revolution.. Raw, fresh & cold sea urchin over hot pizza dough, wow!!The place looks really nice and fresh, it's an upscale pizzeria of the level of Marta. And I love Marta.I only tried few things on my first visit but everything looked really good.I can't wait to try the anchovies next time.\n",
      "***********************************\n",
      "Date: 2015-02-14\n",
      "Score: 5.0\n",
      "Review: \n",
      "The finest pizza we've ever had. The clear aspiration at Prova is to take pizza to another level with a combination of incredible dough (exquisitely thin, aged 5 days) combined with the finest and most creative toppings. The toppings we sampled included sea urchin, burrata,  fresh Italian tomatoes, and fantastic sausage. Fresh oysters and Italian charcuterie were terrific starters, while desserts like affogato and cheesecake made gluttons of us. This will be the first Michelin starred pizza establishment and will soon open an outpost at Grand Central Station as well. Donatella has clearly created something very special here.Ellise and Eric Rose\n",
      "***********************************\n",
      "Date: 2015-02-02\n",
      "Score: 5.0\n",
      "Review: \n",
      "Pizza is very very good here and definitely will be back.The only negative thing I have to say about my experience was that I ordered the calzone and it was actually missing several ingredients and added one that wasn't on there--no capers and no raisins. But anchovies! I brought this up with a waiter who was going to pack our pizza up and he couldn't speak much, if any, English. He told me he was going to get someone to come back to speak with me but never did. The restaurant was also dead so it wasn't that they were busy. I didn't think that was very good follow through and very strange that things were missing and added in the pizza.\n",
      "***********************************\n",
      "Date: 2015-04-06\n",
      "Score: 5.0\n",
      "Review: \n",
      "Was in the mood for pizza Nd I stumbled upon this place and was extremely thankful. Ordered meatballs for an app. Seasoned perfectly and bathing in their home made tomato sauce.  Then ordered margarita and the prova pizza for dinner.  The soft dough traditional style pizza was delicious and perfectly cooked. Will definitely return.\n",
      "***********************************\n",
      "Date: 2015-03-26\n",
      "Score: 3.0\n",
      "Review: \n",
      "Had the meatball appetizer and the Cacio e Uova pizza.  The meatballs were a little bland.  The pizza was good, I like the egg and cheese topping, but the crust didn't blow me away.  In the neighborhood I think Co on 10th ave is better.\n",
      "***********************************\n",
      "Date: 2015-03-18\n",
      "Score: 4.0\n",
      "Review: \n",
      "great neighborhood pizza and they also had a variety of lambrusco so i'm definitely a big fan.  the food came out quickly and the pizzas were delicious!  Great place to drop in with friends for a casual lunch.\n",
      "***********************************\n"
     ]
    }
   ],
   "source": [
    "reviews = soup.select('div.review-list li div.review-content')\n",
    "for review_info_soup in reviews:\n",
    "    \n",
    "    score_soup = review_info_soup.select('meta[itemprop=ratingValue]')\n",
    "    score = float(score_soup[0].attrs['content'])\n",
    "    date_soup = review_info_soup.select('meta[itemprop=datePublished]')\n",
    "    date = date_soup[0].attrs['content']\n",
    "    review_soup = review_info_soup.select('p[itemprop=description]')\n",
    "    review_text = review_soup[0].text\n",
    "    \n",
    "    print \"Date: {0}\".format(date)\n",
    "    print \"Score: {0}\".format(score)\n",
    "    print \"Review: \"\n",
    "    print review_text\n",
    "    print \"***********************************\""
   ]
  },
  {
   "cell_type": "markdown",
   "metadata": {},
   "source": [
    "Implementation Goals:\n",
    "Parallel Gets\n",
    "Live Parsing\n",
    "Clean Separation:\n",
    "1. Pulling Restaurant ids from DB\n",
    "2. Pagination:\n",
    " - Pull first page, record number of english reviews\n",
    " - for i = 1 to i s.t. 40*i > # of english reviews\n",
    " - (pull page)\n",
    "\n",
    "2a. Pulling Webpage\n",
    "3. Parsing Response\n",
    "4. Recording Data\n",
    "\n",
    "Standard for format of data passed back and forth."
   ]
  },
  {
   "cell_type": "markdown",
   "metadata": {},
   "source": [
    "**YelpScrapeCoordinator**\n",
    "\n",
    "init\n",
    "(pull all (camis, yelp_id) - sorted by camis)\n",
    "(set called pulled camis?)\n",
    "(YelpPaginator)\n",
    "cur\n",
    "_open_conn\n",
    "_close_conn\n",
    "_get_ids\n",
    "((camis, yelp_id) for init)\n",
    "\n",
    "pull_all()\n",
    "(pull all yelp_ids)\n",
    "(record)\n",
    "pull_n(from, to)\n",
    "(record)\n",
    "_record\n",
    "\n",
    "\n",
    "**YelpPaginator**\n",
    "init(number of reviews)\n",
    "(YelpWebsiteInterfacer)\n",
    "pull(base_url)\n",
    "[from first page:\n",
    "(get (reviews: (date, rating, review_text), overall_rating, price info, english reviews count)\n",
    "for i = 1 to max i s.t. 40*i <= # of english reviews\n",
    "pull page ?start=40*i\n",
    "return list of all page contents\n",
    "]\n",
    "\n",
    "**YelpWebsiteInterfacer**\n",
    "init\n",
    "(YelpPageParser)\n",
    "pull(url, params)\n",
    "response = requests.get(url, params)\n",
    "parser = ((reviews: (date, ratings, review_text)), overall_rating, dollar_signs, price_lower, price_upper, english_review_count\n",
    "\n",
    "**YelpPageParser**\n",
    "parse(page content)\n",
    "\n",
    "\n",
    "\n",
    "errors to be aware of: parse_errors, connection_error, db_errors, encoding errors"
   ]
  },
  {
   "cell_type": "code",
   "execution_count": null,
   "metadata": {
    "collapsed": true
   },
   "outputs": [],
   "source": []
  },
  {
   "cell_type": "code",
   "execution_count": 48,
   "metadata": {
    "collapsed": false
   },
   "outputs": [],
   "source": [
    "class YelpPageParser():\n",
    "    \n",
    "    def __init__(self):\n",
    "          \n",
    "        self._PageExtract = self._build_packager()\n",
    "    \n",
    "    def _build_packager(self):\n",
    "        \n",
    "        fields = ['avg_rating', 'total_count', 'english_count',\n",
    "                 'dollar_signs', 'price_range', 'reviews']\n",
    "        \n",
    "        return namedtuple('Single_Page_Extract', fields)\n",
    "    \n",
    "    def parse(self, raw_html):\n",
    "        \n",
    "        soup = BeautifulSoup(raw_html)\n",
    "        avg_rating = self._get_avg_rating(soup)\n",
    "        total_count, english_count = self._get_review_counts(soup)\n",
    "        dollar_signs, price_range = self._get_price_info(soup)\n",
    "        reviews = self._get_reviews(soup)\n",
    "        \n",
    "        return self._package_results(avg_rating = avg_rating, \n",
    "                                    total_count = total_count,\n",
    "                                    english_count = english_count,\n",
    "                                    dollar_signs = dollar_signs, \n",
    "                                    price_range = price_range,\n",
    "                                    reviews = reviews\n",
    "                                    )\n",
    "    \n",
    "    def _get_avg_rating(self, page_soup):\n",
    "        \n",
    "        selection = page_soup.select('div.biz-page-header-left meta')[0]\n",
    "        return float(selection.attrs['content'])\n",
    "    \n",
    "    def _get_review_counts(self, page_soup):\n",
    "        \n",
    "        selection = page_soup.select('div.biz-page-header-left span[itemprop=reviewCount]')[0]\n",
    "        total_count = int(selection.text)\n",
    "        \n",
    "        selection = page_soup.select('div.feed-sorts-filters.clearfix span.count')[0]\n",
    "        english_count = int(selection.text.strip())\n",
    "        \n",
    "        return (total_count, english_count)\n",
    "    \n",
    "    def _get_price_info(self, page_soup):\n",
    "        \n",
    "        selection = page_soup.select('div.iconed-list-avatar > span.business-attribute.price-range')[0]\n",
    "        dollar_signs = len(selection.text)\n",
    "        \n",
    "        \n",
    "        selection = page_soup.select('dd.nowrap.price-description')[0]\n",
    "        price_range = tuple(map(int, tuple(selection.text.strip()[1:].split('-'))))\n",
    "        \n",
    "        return dollar_signs, price_range\n",
    "        \n",
    "    def _get_reviews(self, page_soup):\n",
    "        \n",
    "        reviews = []\n",
    "        \n",
    "        review_soup_list = page_soup.select('div.review-list li div.review-content')\n",
    "        for review_soup in review_soup_list:\n",
    "\n",
    "            rating_soup = review_soup.select('meta[itemprop=ratingValue]')\n",
    "            rating = float(rating_soup[0].attrs['content'])\n",
    "            \n",
    "            date_soup = review_soup.select('meta[itemprop=datePublished]')\n",
    "            date = date_soup[0].attrs['content']\n",
    "            \n",
    "            review_soup = review_soup.select('p[itemprop=description]')\n",
    "            review_text = review_soup[0].text\n",
    "\n",
    "            reviews.append((date, rating, review_text))\n",
    "            \n",
    "        return reviews\n",
    "    \n",
    "    def _package_results(self, **kwargs):\n",
    "\n",
    "        return self._PageExtract(**kwargs)\n",
    "    \n",
    "    def _report_parse_error(self):\n",
    "        # To implement once I get an idea of what errors beautiful soup throws.\n",
    "        pass\n",
    "        \n",
    "    \n",
    "    "
   ]
  },
  {
   "cell_type": "code",
   "execution_count": 20,
   "metadata": {
    "collapsed": true
   },
   "outputs": [],
   "source": [
    "base_yelp_biz_url = 'http://www.yelp.com/biz/'\n",
    "sample_biz_id = \"prova-new-york\"\n",
    "sample_restaurant_url = urljoin(base_yelp_biz_url, sample_biz_id)\n",
    "\n",
    "sample_response = requests.get(url = sample_restaurant_url)\n",
    "sample_html = response.content"
   ]
  },
  {
   "cell_type": "code",
   "execution_count": 32,
   "metadata": {
    "collapsed": false
   },
   "outputs": [],
   "source": [
    "ypp = YelpPageParser()"
   ]
  },
  {
   "cell_type": "code",
   "execution_count": 36,
   "metadata": {
    "collapsed": false
   },
   "outputs": [],
   "source": [
    "page_extract = ypp.parse(sample_html)"
   ]
  },
  {
   "cell_type": "code",
   "execution_count": 42,
   "metadata": {
    "collapsed": false
   },
   "outputs": [
    {
     "name": "stdout",
     "output_type": "stream",
     "text": [
      "4.5\n",
      "2\n",
      "58\n",
      "(11, 30)\n",
      "('2015-06-14', 5.0, u'Low key, fantastic drinks, quality ingredients, and handsome Italian bartenders? Sign me up please! This review is for the bar only, although I\\'ll definitely be back to try the pizzas which looked and smelled amazing. Stopped in here for cocktails with a friend before her birthday dinner and could have stayed all night. The specialty cocktails were delicious, specifically the \"just got fired\" - mezcal, lemon, jalape\\xf1os, and magic were the key ingredients I believe. The staff was warm and friendly. The bartender even gave our friend a drink recipe to try on their own at home. Looking forward to going back')\n",
      "40\n",
      "59\n"
     ]
    }
   ],
   "source": [
    "print page_extract.avg_rating\n",
    "print page_extract.dollar_signs\n",
    "print page_extract.english_count\n",
    "print page_extract.price_range\n",
    "print page_extract.reviews[0]\n",
    "print len(page_extract.reviews)\n",
    "print page_extract.total_count"
   ]
  },
  {
   "cell_type": "code",
   "execution_count": 43,
   "metadata": {
    "collapsed": true
   },
   "outputs": [],
   "source": [
    "class YelpWebsiteInterfacer():\n",
    "    \n",
    "    def __init__(self):\n",
    "        \n",
    "        self.MAX_GET_ATTEMPTS = 3\n",
    "        \n",
    "    def get_page(self, url):\n",
    "        \n",
    "        page_html = None\n",
    "        for k in xrange(1, self.MAX_GET_ATTEMPTS+1):\n",
    "            \n",
    "            try:  \n",
    "                response = requests.get(url)\n",
    "                page_html = response.content\n",
    "                break\n",
    "            \n",
    "            except requests.ConnectionError:\n",
    "                self._report_connection_error(url, k)\n",
    "                \n",
    "                \n",
    "        if page_html is None:\n",
    "            return None\n",
    "        \n",
    "        return page_html\n",
    "    \n",
    "    def _report_connection_error(self, url, k):\n",
    "        \n",
    "            print '************************'\n",
    "            print \"Connection Error encountered on attempt number {0}.\".format(k)\n",
    "            print \"URL:\"\n",
    "            print url\n",
    "            \n",
    "            if k < self.MAX_GET_ATTEMPTS:\n",
    "                print \"Attempting to get page again...\"\n",
    "            else:\n",
    "                print \"Will not attempt to get this page anymore.\"\n",
    "                \n",
    "            print '************************'\n",
    "        "
   ]
  },
  {
   "cell_type": "code",
   "execution_count": 46,
   "metadata": {
    "collapsed": false
   },
   "outputs": [],
   "source": [
    "ywi = YelpWebsiteInterfacer()\n",
    "page_html = ywi.get_page(sample_restaurant_url)"
   ]
  },
  {
   "cell_type": "code",
   "execution_count": null,
   "metadata": {
    "collapsed": true
   },
   "outputs": [],
   "source": [
    "# **YelpPaginator**\n",
    "# init(number of reviews)\n",
    "# (YelpWebsiteInterfacer)\n",
    "# pull(base_url)\n",
    "# [from first page:\n",
    "# (get (reviews: (date, rating, review_text), overall_rating, price info, english reviews count)\n",
    "# for i = 1 to max i s.t. 40*i <= # of english reviews\n",
    "# pull page ?start=40*i\n",
    "# return list of all page contents\n",
    "# ]"
   ]
  },
  {
   "cell_type": "code",
   "execution_count": null,
   "metadata": {
    "collapsed": true
   },
   "outputs": [],
   "source": [
    "class YelpPaginator():\n",
    "    \n",
    "    def __init__(self, max_reviews):\n",
    "        \n",
    "        self.MAX_REVIEWS = max_reviews\n",
    "        self.BASE_YELP_BIZ_URL = 'http://www.yelp.com/biz/'\n",
    "        self.web_interfacer = YelpWebsiteInterfacer()\n",
    "        self.page_parser = YelpPageParser()\n",
    "        \n",
    "    def pull_business(self, yelp_biz_id):\n",
    "        \n",
    "        base_page_url = urljoin(self.BASE_YELP_BIZ_URL, yelp_biz_id)\n",
    "        full_extract = _paginate_pull(base_page_url)\n",
    "        return full_extract\n",
    "              \n",
    "    def _paginate_pull(self, base_page_url):\n",
    "        \n",
    "        page_html = self.web_interfacer.get_page(base_page_url)\n",
    "        restaurant_extract = self.page_parser(page_html)\n",
    "        \n",
    "        avg_rating = \n",
    "        total_count = \n",
    "        english_count = \n",
    "        dollar_signs = \n",
    "        price_range = \n",
    "        reviews = \n",
    "        \n",
    "        \n",
    "\n",
    "\n",
    "\n",
    "\n"
   ]
  },
  {
   "cell_type": "code",
   "execution_count": null,
   "metadata": {
    "collapsed": true
   },
   "outputs": [],
   "source": []
  }
 ],
 "metadata": {
  "kernelspec": {
   "display_name": "Python 2",
   "language": "python",
   "name": "python2"
  },
  "language_info": {
   "codemirror_mode": {
    "name": "ipython",
    "version": 2
   },
   "file_extension": ".py",
   "mimetype": "text/x-python",
   "name": "python",
   "nbconvert_exporter": "python",
   "pygments_lexer": "ipython2",
   "version": "2.7.6"
  }
 },
 "nbformat": 4,
 "nbformat_minor": 0
}
